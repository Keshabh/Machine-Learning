{
 "cells": [
  {
   "cell_type": "markdown",
   "id": "511b6809-e512-4201-950e-18fbb2faada1",
   "metadata": {},
   "source": [
    "# Numpy"
   ]
  },
  {
   "cell_type": "markdown",
   "id": "de9f6883-bf79-481e-b18d-474ec6bef073",
   "metadata": {},
   "source": [
    "1. A core library for scientific and numerical computing in Python.\n",
    "2. Provides high performance array object and tools for working with arrays.\n",
    "3. Fast, convenient and less memory."
   ]
  },
  {
   "cell_type": "code",
   "execution_count": 7,
   "id": "5ff196e2-558d-49f2-ae74-b6238d7143b3",
   "metadata": {},
   "outputs": [
    {
     "data": {
      "text/plain": [
       "array([1, 2, 3])"
      ]
     },
     "execution_count": 7,
     "metadata": {},
     "output_type": "execute_result"
    }
   ],
   "source": [
    "import numpy as np\n",
    "arr = np.array([1,2,3])\n",
    "arr"
   ]
  },
  {
   "cell_type": "code",
   "execution_count": 8,
   "id": "22cd21bd-8e94-4388-9b6f-4f5776ef1282",
   "metadata": {},
   "outputs": [
    {
     "data": {
      "text/plain": [
       "numpy.ndarray"
      ]
     },
     "execution_count": 8,
     "metadata": {},
     "output_type": "execute_result"
    }
   ],
   "source": [
    "type(arr)"
   ]
  },
  {
   "cell_type": "markdown",
   "id": "d425b0ee-6cec-4b3c-87a2-8b2ea1ee4146",
   "metadata": {},
   "source": [
    "### Lets compare the size of both list and numpy array, to see how less memory numpy takes to store values."
   ]
  },
  {
   "cell_type": "code",
   "execution_count": 28,
   "id": "3b4dd5cf-6ef0-44f5-82bf-569e469b9516",
   "metadata": {},
   "outputs": [
    {
     "data": {
      "text/plain": [
       "14000"
      ]
     },
     "execution_count": 28,
     "metadata": {},
     "output_type": "execute_result"
    }
   ],
   "source": [
    "import sys\n",
    "normal_list = range(1000)\n",
    "sys.getsizeof(5)*len(normal_list)"
   ]
  },
  {
   "cell_type": "code",
   "execution_count": 30,
   "id": "b2a0cd71-91ec-4a6a-9d90-f53c049aec20",
   "metadata": {},
   "outputs": [
    {
     "data": {
      "text/plain": [
       "4000"
      ]
     },
     "execution_count": 30,
     "metadata": {},
     "output_type": "execute_result"
    }
   ],
   "source": [
    "numpy_list = np.arange(1000)\n",
    "numpy_list.itemsize * numpy_list.size"
   ]
  },
  {
   "cell_type": "markdown",
   "id": "a941c2d0-8740-4533-9478-4afe5f8456bf",
   "metadata": {},
   "source": [
    "#### From the above, we can oberserve the memory occupance difference between a list and a numpy array, which is 14000 bytes in case of a list and 4000 in case of numpy array."
   ]
  },
  {
   "cell_type": "markdown",
   "id": "80ccf616-17d8-4b01-9b30-a439ad8f6093",
   "metadata": {},
   "source": [
    "### Lets compare and see how fast numpy is as compared to a list."
   ]
  },
  {
   "cell_type": "code",
   "execution_count": 47,
   "id": "d318dfe8-8e6e-4a52-98d2-1473c1bd3ee6",
   "metadata": {},
   "outputs": [
    {
     "name": "stdout",
     "output_type": "stream",
     "text": [
      "Time taken while adding corresponding elements from 2 lists:  17.934560775756836\n"
     ]
    }
   ],
   "source": [
    "# we will add 2 list, and 2 numpy array to compare the speed difference.\n",
    "import time\n",
    "size = 100000\n",
    "L1 = range(size)\n",
    "L2 = range(size)\n",
    "A1 = np.arange(size)\n",
    "A2 = np.arange(size)\n",
    "\n",
    "start = time.time()\n",
    "result1 = [x+y for x,y in zip(L1,L2)]\n",
    "print(\"Time taken while adding corresponding elements from 2 lists: \", (time.time() - start)*1000)"
   ]
  },
  {
   "cell_type": "code",
   "execution_count": 48,
   "id": "f0bca73f-4554-4938-a613-c9a2a021f58b",
   "metadata": {},
   "outputs": [
    {
     "name": "stdout",
     "output_type": "stream",
     "text": [
      "Time taken while adding corresponding elements from 2 array:  0.0\n"
     ]
    }
   ],
   "source": [
    "start = time.time()\n",
    "result2 = A1 + A2\n",
    "print(\"Time taken while adding corresponding elements from 2 array: \", (time.time() - start)*1000)"
   ]
  },
  {
   "cell_type": "markdown",
   "id": "144da8af-3d79-4ce2-9166-98f8c40445e2",
   "metadata": {},
   "source": [
    "#### Therefore it can be observed from above that numpy is comparatively faster than a list."
   ]
  },
  {
   "cell_type": "markdown",
   "id": "a2a41d48-3b9d-4d8e-b33d-67815d999537",
   "metadata": {},
   "source": [
    "### Basic Operations with numpy"
   ]
  },
  {
   "cell_type": "code",
   "execution_count": 55,
   "id": "2e5955c9-0af4-4fb5-a061-a7a6d9f7c4fc",
   "metadata": {},
   "outputs": [
    {
     "name": "stdout",
     "output_type": "stream",
     "text": [
      "From One dimensional List:  [1 2 3 4]\n",
      "From Multi dimensional List:  [[1 2]\n",
      " [2 3]\n",
      " [4 5]]\n"
     ]
    }
   ],
   "source": [
    "# lets create a numpy array with a list\n",
    "a = np.array([1,2,3,4])\n",
    "print(\"From One dimensional List: \",a)\n",
    "b = np.array([[1,2],[2,3],[4,5]])\n",
    "print(\"From Multi dimensional List: \",b)"
   ]
  },
  {
   "cell_type": "code",
   "execution_count": 56,
   "id": "f343bb37-aca0-4c2f-8379-653a9767a1a6",
   "metadata": {},
   "outputs": [
    {
     "name": "stdout",
     "output_type": "stream",
     "text": [
      "For one dimensional array a:  1\n",
      "For multi dimensional array a:  2\n"
     ]
    }
   ],
   "source": [
    "# to check number of dimensions an array has, we use ndim attribute\n",
    "print(\"For one dimensional array a: \", a.ndim)\n",
    "print(\"For multi dimensional array a: \", b.ndim)"
   ]
  },
  {
   "cell_type": "code",
   "execution_count": 60,
   "id": "56050588-335d-4449-b8cd-b36a0ac9c2a1",
   "metadata": {},
   "outputs": [
    {
     "name": "stdout",
     "output_type": "stream",
     "text": [
      "Number of items in a should be 4:  4\n",
      "Number of items in b should be 6:  6\n"
     ]
    }
   ],
   "source": [
    "# we can also know the number of items placed in an array with size attibute\n",
    "print(\"Number of items in a should be 4: \", a.size)\n",
    "print(\"Number of items in b should be 6: \", b.size)"
   ]
  },
  {
   "cell_type": "code",
   "execution_count": 63,
   "id": "f4408435-19c4-4d73-8436-c5c8de3fe60d",
   "metadata": {},
   "outputs": [
    {
     "name": "stdout",
     "output_type": "stream",
     "text": [
      "Size of an element in an array'a':  4 bytes\n",
      "Size of an element in an array'b':  4 bytes\n"
     ]
    }
   ],
   "source": [
    "# we can also know the size (in bytes) of an element in an array with the help of itemsize attribute\n",
    "print(\"Size of an element in an array'a': \",a.itemsize,\"bytes\")\n",
    "print(\"Size of an element in an array'b': \",b.itemsize,\"bytes\")"
   ]
  },
  {
   "cell_type": "code",
   "execution_count": 64,
   "id": "f6b9afab-70b9-4bbf-b4a5-392c05021af2",
   "metadata": {},
   "outputs": [
    {
     "name": "stdout",
     "output_type": "stream",
     "text": [
      "Shape of an array 'a':  (4,)\n",
      "Shape of an array 'b':  (3, 2)\n"
     ]
    }
   ],
   "source": [
    "# we can know the shape of an array too in terms of (Row,Column) with the help of shape attribute\n",
    "print(\"Shape of an array 'a': \", a.shape)\n",
    "print(\"Shape of an array 'b': \", b.shape)"
   ]
  },
  {
   "cell_type": "code",
   "execution_count": 69,
   "id": "efdfe4b2-1330-40cd-84d3-8d61b5797346",
   "metadata": {},
   "outputs": [
    {
     "name": "stdout",
     "output_type": "stream",
     "text": [
      "[[1. 2.]\n",
      " [3. 4.]\n",
      " [5. 6.]]\n",
      "8\n",
      "(3, 2)\n"
     ]
    }
   ],
   "source": [
    "# we can also force to change the datatype of each element while creating an array with dtype parameter\n",
    "a = np.array([[1,2],[3,4],[5,6]],dtype='float64')\n",
    "print(a)\n",
    "print(a.itemsize)\n",
    "print(a.shape)"
   ]
  },
  {
   "cell_type": "code",
   "execution_count": 73,
   "id": "2cf85a21-4a00-43a8-9043-f9eacab9b27f",
   "metadata": {},
   "outputs": [
    {
     "name": "stdout",
     "output_type": "stream",
     "text": [
      "array consisitng of zeros of 3 rows and 4 columns: \n",
      " [[0. 0. 0. 0.]\n",
      " [0. 0. 0. 0.]\n",
      " [0. 0. 0. 0.]]\n"
     ]
    }
   ],
   "source": [
    "# we can create an array consistinng of only zeros, using zeros((R,C)) function\n",
    "z = np.zeros((3,4))\n",
    "print(\"array consisitng of zeros of 3 rows and 4 columns: \\n\",z)"
   ]
  },
  {
   "cell_type": "code",
   "execution_count": 75,
   "id": "c47556ee-508c-4b57-b0f5-e42986bf935b",
   "metadata": {},
   "outputs": [
    {
     "name": "stdout",
     "output_type": "stream",
     "text": [
      "array consisitng of ones of 3 rows and 4 columns: \n",
      " [[1 1 1 1]\n",
      " [1 1 1 1]\n",
      " [1 1 1 1]]\n"
     ]
    }
   ],
   "source": [
    "# we can create an array consistinng of only ones, using ones((R,C)) function\n",
    "z = np.ones((3,4),dtype='int')\n",
    "print(\"array consisitng of ones of 3 rows and 4 columns: \\n\",z)"
   ]
  },
  {
   "cell_type": "code",
   "execution_count": 79,
   "id": "fd03bcfe-d2a7-45c8-8d0d-b140e89ebd60",
   "metadata": {},
   "outputs": [
    {
     "name": "stdout",
     "output_type": "stream",
     "text": [
      "[0 1 2 3 4]\n",
      "[2 3 4 5 6 7]\n",
      "[2 4 6]\n"
     ]
    }
   ],
   "source": [
    "# we can create a range of number too from 0 till n-1, if n is passed in the paramter\n",
    "r1 = np.arange(5)\n",
    "print(r1)\n",
    "# we can provide start and end paramter too, it will start from 2 and end at 8-1\n",
    "r2 = np.arange(2,8)\n",
    "print(r2)\n",
    "# we can provide jumper too or incrementor too, starts at 2, ends at 8-1, and difference between each is 2.\n",
    "r3 = np.arange(2,8,2)\n",
    "print(r3)"
   ]
  },
  {
   "cell_type": "code",
   "execution_count": 85,
   "id": "fdf281b0-e8f5-4dc3-bc3b-0a8d362d6904",
   "metadata": {},
   "outputs": [
    {
     "name": "stdout",
     "output_type": "stream",
     "text": [
      "['AC' 'BD']\n",
      "HelloWorld\n"
     ]
    }
   ],
   "source": [
    "#lets work with some char arrays.\n",
    "#concatenation of elements from 2 arrays at corresponding indexes.\n",
    "x1=['A','B']\n",
    "x2=['C','D']\n",
    "print(np.char.add(x1,x2))\n",
    "print(np.char.add('Hello','World'))"
   ]
  },
  {
   "cell_type": "code",
   "execution_count": 89,
   "id": "3f133d0a-8ba9-403a-b6d3-08f186bc22fa",
   "metadata": {},
   "outputs": [
    {
     "name": "stdout",
     "output_type": "stream",
     "text": [
      "hellohellohello\n",
      "['AA' 'BB']\n"
     ]
    }
   ],
   "source": [
    "#multiply the number of strings\n",
    "print(np.char.multiply('hello',3))\n",
    "print(np.char.multiply(x1,2))"
   ]
  },
  {
   "cell_type": "code",
   "execution_count": 90,
   "id": "e2869eb0-e5a6-47ee-8c88-6f5742650180",
   "metadata": {},
   "outputs": [
    {
     "name": "stdout",
     "output_type": "stream",
     "text": [
      "-------Hello--------\n",
      "['---------A----------' '---------B----------']\n"
     ]
    }
   ],
   "source": [
    "# center string and fill the rest space with some other chars.\n",
    "print(np.char.center(\"Hello\",20,fillchar='-'))\n",
    "print(np.char.center(x1,20,fillchar='-'))"
   ]
  },
  {
   "cell_type": "code",
   "execution_count": 92,
   "id": "5eff9254-5d11-40e5-95fa-ca4ed5c6a33f",
   "metadata": {},
   "outputs": [
    {
     "name": "stdout",
     "output_type": "stream",
     "text": [
      "UPPER\n",
      "['ABC' 'DEF']\n"
     ]
    }
   ],
   "source": [
    "#capitalize string\n",
    "print(np.char.upper('upper'))\n",
    "print(np.char.upper(['abc','def']))"
   ]
  },
  {
   "cell_type": "code",
   "execution_count": 93,
   "id": "33ffd71d-b36c-439a-8fcb-18d6836c0557",
   "metadata": {},
   "outputs": [
    {
     "name": "stdout",
     "output_type": "stream",
     "text": [
      "lower\n",
      "['abc' 'def']\n"
     ]
    }
   ],
   "source": [
    "# lower string\n",
    "print(np.char.lower('lower'))\n",
    "print(np.char.lower(['aBC','DEF']))"
   ]
  },
  {
   "cell_type": "code",
   "execution_count": 96,
   "id": "85c2e9a9-ba2f-44ea-b7b5-3de31f788f64",
   "metadata": {},
   "outputs": [
    {
     "name": "stdout",
     "output_type": "stream",
     "text": [
      "Hello World\n",
      "['Abc Def' 'Hik Sds']\n"
     ]
    }
   ],
   "source": [
    "# title, it converts first letter of the word capital\n",
    "print(np.char.title('hello world'))\n",
    "print(np.char.title(['abc def','hik sds']))"
   ]
  },
  {
   "cell_type": "code",
   "execution_count": 100,
   "id": "f42a4fcf-7f79-407e-b157-d3b5937605e8",
   "metadata": {},
   "outputs": [
    {
     "name": "stdout",
     "output_type": "stream",
     "text": [
      "['My', 'name', 'is', 'Jarvis']\n",
      "['I like', 'to fly']\n"
     ]
    }
   ],
   "source": [
    "# we can split an string into an array too\n",
    "print(np.char.split('My name is Jarvis'))\n",
    "print(np.char.splitlines('I like\\nto fly'))"
   ]
  },
  {
   "cell_type": "code",
   "execution_count": 103,
   "id": "1fe529c6-ea18-4952-b676-969f425dc45f",
   "metadata": {},
   "outputs": [
    {
     "name": "stdout",
     "output_type": "stream",
     "text": [
      "['n' 'nap' 'm' 'maz' 'm']\n"
     ]
    }
   ],
   "source": [
    "# we can strip strings with ceratin letter from beggining and from the end of the string.\n",
    "print(np.char.strip(['ana','nap','aam','maza','maa'],'a'))"
   ]
  },
  {
   "cell_type": "code",
   "execution_count": 111,
   "id": "50ba2fa4-e76e-4e24-b432-9c1775bdb39f",
   "metadata": {},
   "outputs": [
    {
     "name": "stdout",
     "output_type": "stream",
     "text": [
      "A:p:p:l:e\n",
      "['A:p:p:l:e' 'G:u:a:v:a']\n",
      "['A:p:p:l:e' 'G.u.a.v.a']\n"
     ]
    }
   ],
   "source": [
    "# we can join strings with other chars or special case chars\n",
    "print(np.char.join(':','Apple'))\n",
    "print(np.char.join(':',['Apple','Guava']))\n",
    "print(np.char.join([':','.'],['Apple','Guava']))"
   ]
  },
  {
   "cell_type": "code",
   "execution_count": 112,
   "id": "26118daf-a1a3-4bfd-82aa-206f7fe12eb9",
   "metadata": {},
   "outputs": [
    {
     "name": "stdout",
     "output_type": "stream",
     "text": [
      "My name is iron man\n"
     ]
    }
   ],
   "source": [
    "# we can repalce certian letter  or word from the sentence too\n",
    "print(np.char.replace(\"My name is jarvis\",'jarvis','iron man'))"
   ]
  },
  {
   "cell_type": "markdown",
   "id": "440fcd5f-b784-46b7-a9e0-02e0f53294e7",
   "metadata": {},
   "source": [
    "## Array manipulation"
   ]
  },
  {
   "cell_type": "code",
   "execution_count": 135,
   "id": "afad824b-3994-433f-af1e-3d3a91a8f26b",
   "metadata": {},
   "outputs": [
    {
     "name": "stdout",
     "output_type": "stream",
     "text": [
      "Original array:  [0 1 2 3 4 5 6 7]\n",
      "After changing diemnsion from 1,1 to 2,4 : \n",
      "[[0 1 2 3]\n",
      " [4 5 6 7]]\n"
     ]
    }
   ],
   "source": [
    "# lets change the shape of an array using reshape function reshape(R,C)\n",
    "a = np.arange(8)\n",
    "print(\"Original array: \",a)\n",
    "print(\"After changing diemnsion from 1,1 to 2,4 : \")\n",
    "b = a.reshape(2,4)\n",
    "print(b)"
   ]
  },
  {
   "cell_type": "code",
   "execution_count": 139,
   "id": "aa2e0ecd-0dc6-463c-9e3a-bbcee2176cd9",
   "metadata": {},
   "outputs": [
    {
     "name": "stdout",
     "output_type": "stream",
     "text": [
      "[0 1 2 3 4 5 6 7]\n",
      "[0 4 1 5 2 6 3 7]\n"
     ]
    }
   ],
   "source": [
    "# we can bring it banck to 1 dimensional with flatten function\n",
    "print(b.flatten())\n",
    "# we can flatten it along column wise\n",
    "print(b.flatten(order=\"F\"))"
   ]
  },
  {
   "cell_type": "code",
   "execution_count": 142,
   "id": "c801bd13-0a10-4ddf-986d-38ee13d9dd60",
   "metadata": {},
   "outputs": [
    {
     "name": "stdout",
     "output_type": "stream",
     "text": [
      "Original array:\n",
      " [[ 0  1  2  3]\n",
      " [ 4  5  6  7]\n",
      " [ 8  9 10 11]]\n",
      "Transpose of A: \n",
      " [[ 0  4  8]\n",
      " [ 1  5  9]\n",
      " [ 2  6 10]\n",
      " [ 3  7 11]]\n",
      "[[ 0  4  8]\n",
      " [ 1  5  9]\n",
      " [ 2  6 10]\n",
      " [ 3  7 11]]\n"
     ]
    }
   ],
   "source": [
    "# we can transpose too\n",
    "A = np.arange(12).reshape(3,4)\n",
    "print(\"Original array:\\n\",A)\n",
    "print(\"Transpose of A: \\n\",np.transpose(A))\n",
    "print(A.T)"
   ]
  },
  {
   "cell_type": "code",
   "execution_count": 145,
   "id": "bfc55dce-1adf-460c-b226-796aae1a7d30",
   "metadata": {},
   "outputs": [
    {
     "name": "stdout",
     "output_type": "stream",
     "text": [
      "[[[0 1]\n",
      "  [2 3]]\n",
      "\n",
      " [[4 5]\n",
      "  [6 7]]]\n"
     ]
    }
   ],
   "source": [
    "# using reshape to create 3 dimensional array\n",
    "B = np.arange(8).reshape(2,2,2)\n",
    "print(B)"
   ]
  },
  {
   "cell_type": "markdown",
   "id": "d0540e89-6743-4797-9a67-7c52151912cf",
   "metadata": {},
   "source": [
    "## Arithmetic Operations"
   ]
  },
  {
   "cell_type": "code",
   "execution_count": 155,
   "id": "481624ee-5d89-459d-9a02-396fc7bc6626",
   "metadata": {},
   "outputs": [
    {
     "name": "stdout",
     "output_type": "stream",
     "text": [
      "[[0 1 2]\n",
      " [3 4 5]\n",
      " [6 7 8]]\n",
      "Adding b in a, adds 10 in column1, 11 in col2, 12 in col3\n",
      "[[10 12 14]\n",
      " [13 15 17]\n",
      " [16 18 20]]\n",
      "Adding just 10 in a, adds 10 in all the elements of an array a\n",
      "[[10 11 12]\n",
      " [13 14 15]\n",
      " [16 17 18]]\n",
      "Adding array a and array c, and both are of same dimensions\n",
      "[[ 0  2  4]\n",
      " [ 6  8 10]\n",
      " [12 14 16]]\n"
     ]
    }
   ],
   "source": [
    "a = np.arange(9).reshape(3,3)\n",
    "print(a)\n",
    "b = np.array([10,11,12])\n",
    "print(\"Adding b in a, adds 10 in column1, 11 in col2, 12 in col3\")\n",
    "print(a+b)\n",
    "print(\"Adding just 10 in a, adds 10 in all the elements of an array a\")\n",
    "print(10+a)\n",
    "c = np.arange(9).reshape(3,3)\n",
    "print(\"Adding array a and array c, and both are of same dimensions\")\n",
    "print(a+c)"
   ]
  },
  {
   "cell_type": "code",
   "execution_count": 164,
   "id": "8a4c64dd-1779-4222-8bb8-5645cb6e8760",
   "metadata": {},
   "outputs": [
    {
     "name": "stdout",
     "output_type": "stream",
     "text": [
      "[[ 0  2  4]\n",
      " [ 6  8 10]\n",
      " [12 14 16]]\n",
      "[[0 0 0]\n",
      " [0 0 0]\n",
      " [0 0 0]]\n",
      "[[ 0  1  4]\n",
      " [ 9 16 25]\n",
      " [36 49 64]]\n",
      "[[nan  1.  1.]\n",
      " [ 1.  1.  1.]\n",
      " [ 1.  1.  1.]]\n"
     ]
    },
    {
     "name": "stderr",
     "output_type": "stream",
     "text": [
      "<ipython-input-164-6d1bcc960c68>:5: RuntimeWarning: invalid value encountered in true_divide\n",
      "  print(np.divide(a,c))\n"
     ]
    }
   ],
   "source": [
    "# lets use another method to do the same\n",
    "print(np.add(a,c))\n",
    "print(np.subtract(a,c))\n",
    "print(np.multiply(a,c))\n",
    "print(np.divide(a,c))"
   ]
  },
  {
   "cell_type": "markdown",
   "id": "2941b69f-ee56-4286-bdf7-3e4ef9071961",
   "metadata": {},
   "source": [
    "### Slicing"
   ]
  },
  {
   "cell_type": "code",
   "execution_count": 174,
   "id": "2bbd0482-a04d-42a7-8aa1-f982f06e1d1f",
   "metadata": {},
   "outputs": [
    {
     "name": "stdout",
     "output_type": "stream",
     "text": [
      "[0 1 2 3 4 5 6 7 8 9]\n",
      "4\n",
      "[0 1 2 3]\n",
      "[4 5 6 7 8 9]\n",
      "[0 1 2 3 4 5 6 7 8 9]\n",
      "[2 4 6]\n"
     ]
    }
   ],
   "source": [
    "a = np.arange(10)\n",
    "print(a)\n",
    "print(a[4])\n",
    "print(a[:4])\n",
    "print(a[4:])\n",
    "print(a[:])\n",
    "print(a[2:7:2])"
   ]
  },
  {
   "cell_type": "markdown",
   "id": "c725b9be-4cbd-4a58-98a2-f407c92602d3",
   "metadata": {},
   "source": [
    "### Iteration over array"
   ]
  },
  {
   "cell_type": "code",
   "execution_count": 180,
   "id": "76ea6728-6f76-4305-8177-79e9c57a4a6e",
   "metadata": {},
   "outputs": [
    {
     "name": "stdout",
     "output_type": "stream",
     "text": [
      "[[ 0  1  2  3]\n",
      " [ 4  5  6  7]\n",
      " [ 8  9 10 11]]\n",
      "0\n",
      "1\n",
      "2\n",
      "3\n",
      "4\n",
      "5\n",
      "6\n",
      "7\n",
      "8\n",
      "9\n",
      "10\n",
      "11\n",
      "0\n",
      "4\n",
      "8\n",
      "1\n",
      "5\n",
      "9\n",
      "2\n",
      "6\n",
      "10\n",
      "3\n",
      "7\n",
      "11\n"
     ]
    }
   ],
   "source": [
    "a = np.arange(12).reshape(3,4)\n",
    "print(a)\n",
    "for x in np.nditer(a,order='c'):\n",
    "    print(x)\n",
    "for x in np.nditer(a,order='f'):\n",
    "    print(x)"
   ]
  },
  {
   "cell_type": "code",
   "execution_count": 183,
   "id": "85c60d38-d9aa-4bbc-8eaf-ddd656f6ea81",
   "metadata": {},
   "outputs": [
    {
     "name": "stdout",
     "output_type": "stream",
     "text": [
      "[[1 2]\n",
      " [3 4]\n",
      " [5 6]\n",
      " [7 8]]\n",
      "Adding along the row\n",
      "\n",
      "[[1 2 5 6]\n",
      " [3 4 7 8]]\n"
     ]
    }
   ],
   "source": [
    "#lets join 2 arrays\n",
    "a = np.array([[1,2],[3,4]])\n",
    "b = np.array([[5,6],[7,8]])\n",
    "print(np.concatenate((a,b))) #by default axis=0, it means these 2 arrays will be added along the column\n",
    "print(\"Adding along the row\\n\")\n",
    "print(np.concatenate((a,b),axis=1))"
   ]
  },
  {
   "cell_type": "code",
   "execution_count": 191,
   "id": "64e9c442-b72b-4eac-87dc-9f5f4c27b6b3",
   "metadata": {},
   "outputs": [
    {
     "name": "stdout",
     "output_type": "stream",
     "text": [
      "[6 7 3 4 6 7 2 1 3]\n",
      "Splits into 3 seperate arrays: \n",
      "[array([6, 7, 3]), array([4, 6, 7]), array([2, 1, 3])]\n",
      "splitting at specific indexes, lets say at index 4\n",
      "[array([6, 7, 3, 4]), array([6, 7, 2, 1, 3])]\n",
      "splitting at index 4 and 7\n",
      "[array([6, 7, 3, 4]), array([6, 7, 2]), array([1, 3])]\n"
     ]
    }
   ],
   "source": [
    "# lets split the arrays\n",
    "a = np.array([6,7,3,4,6,7,2,1,3])\n",
    "print(a)\n",
    "print(\"Splits into 3 seperate arrays: \")\n",
    "print(np.split(a,3))\n",
    "print(\"splitting at specific indexes, lets say at index 4\")\n",
    "print(np.split(a,[4]))\n",
    "print(\"splitting at index 4 and 7\")\n",
    "print(np.split(a,[4,7]))"
   ]
  },
  {
   "cell_type": "markdown",
   "id": "86183509-2a00-43a5-adfb-038bd7f0d9c6",
   "metadata": {},
   "source": [
    "### Histogram"
   ]
  },
  {
   "cell_type": "code",
   "execution_count": 193,
   "id": "e8c5fea0-04b2-4482-ba5e-a6b04a396e7b",
   "metadata": {},
   "outputs": [
    {
     "data": {
      "image/png": "[encoded data removed]",
      "text/plain": [
       "<Figure size 432x288 with 1 Axes>"
      ]
     },
     "metadata": {
      "needs_background": "light"
     },
     "output_type": "display_data"
    }
   ],
   "source": [
    "from matplotlib import pyplot as plt\n",
    "a = np.array([1,5,8,12,456,78,8,34,67,12,45,89,21,45,32])\n",
    "plt.hist(a,bins = [0,20,60,80,120])\n",
    "plt.title(\"Histogram\")\n",
    "plt.show()"
   ]
  },
  {
   "cell_type": "code",
   "execution_count": 194,
   "id": "2d5aafb9-cd43-47b0-b68d-d6a306de1eed",
   "metadata": {},
   "outputs": [
    {
     "name": "stdout",
     "output_type": "stream",
     "text": [
      "[1.         1.11111111 1.22222222 1.33333333 1.44444444 1.55555556\n",
      " 1.66666667 1.77777778 1.88888889 2.        ]\n"
     ]
    }
   ],
   "source": [
    "# linspace function\n",
    "print(np.linspace(1,2,10))"
   ]
  },
  {
   "cell_type": "code",
   "execution_count": 200,
   "id": "bbbc713e-7c42-4fdb-b299-eb49b0bf8a49",
   "metadata": {},
   "outputs": [
    {
     "name": "stdout",
     "output_type": "stream",
     "text": [
      "Total sum:  45\n",
      "Total sum along column:  [12 15 18]\n",
      "Total sum along row:  [ 6 15 24]\n"
     ]
    }
   ],
   "source": [
    "# sum fucntion\n",
    "a = np.array([[1,2,3],[4,5,6],[7,8,9]])\n",
    "print(\"Total sum: \",a.sum())\n",
    "print(\"Total sum along column: \",a.sum(axis=0))\n",
    "print(\"Total sum along row: \",a.sum(axis=1))"
   ]
  },
  {
   "cell_type": "code",
   "execution_count": 204,
   "id": "41a47aa6-6511-4841-ad8e-02f83148ce46",
   "metadata": {},
   "outputs": [
    {
     "name": "stdout",
     "output_type": "stream",
     "text": [
      "Square root of a is:  [[1.         1.41421356 1.73205081]\n",
      " [2.         2.23606798 2.44948974]\n",
      " [2.64575131 2.82842712 3.        ]]\n",
      "Standard deviation of a is:  2.581988897471611\n",
      "Log:  [[0.         0.30103    0.47712125]\n",
      " [0.60205999 0.69897    0.77815125]\n",
      " [0.84509804 0.90308999 0.95424251]]\n"
     ]
    }
   ],
   "source": [
    "# sqrt,std, log function\n",
    "print(\"Square root of a is: \", np.sqrt(a))\n",
    "print(\"Standard deviation of a is: \", np.std(a))\n",
    "print(\"Log: \", np.log10(a))"
   ]
  },
  {
   "cell_type": "code",
   "execution_count": 205,
   "id": "f882a544-69ca-4733-bbee-0fe6138fed60",
   "metadata": {},
   "outputs": [
    {
     "data": {
      "image/png": "[encoded data removed]",
      "text/plain": [
       "<Figure size 432x288 with 1 Axes>"
      ]
     },
     "metadata": {
      "needs_background": "light"
     },
     "output_type": "display_data"
    }
   ],
   "source": [
    "# lets create a sin curve\n",
    "x = np.arange(0,2*np.pi,0.1)\n",
    "y = np.sin(x)\n",
    "plt.plot(x,y)\n",
    "plt.show()"
   ]
  },
  {
   "cell_type": "code",
   "execution_count": 209,
   "id": "cfc2d4e9-4318-4d94-9439-680f8949240d",
   "metadata": {},
   "outputs": [
    {
     "name": "stdout",
     "output_type": "stream",
     "text": [
      "[0.82040386 0.31932066 0.88865094 0.14692183 0.84228719 0.02843318\n",
      " 0.115289   0.35706284 0.33594512 0.50216431]\n",
      "[[0.05458703 0.88291014 0.27161891]\n",
      " [0.8491803  0.75723957 0.53604962]]\n"
     ]
    }
   ],
   "source": [
    "# lets create random numbers\n",
    "print(np.random.rand(10))\n",
    "print(np.random.rand(2,3))"
   ]
  },
  {
   "cell_type": "code",
   "execution_count": null,
   "id": "b2b9f560-11d0-4842-82fe-6ae4bde35e07",
   "metadata": {},
   "outputs": [],
   "source": []
  }
 ],
 "metadata": {
  "kernelspec": {
   "display_name": "Python 3",
   "language": "python",
   "name": "python3"
  },
  "language_info": {
   "codemirror_mode": {
    "name": "ipython",
    "version": 3
   },
   "file_extension": ".py",
   "mimetype": "text/x-python",
   "name": "python",
   "nbconvert_exporter": "python",
   "pygments_lexer": "ipython3",
   "version": "3.8.2"
  }
 },
 "nbformat": 4,
 "nbformat_minor": 5
}
