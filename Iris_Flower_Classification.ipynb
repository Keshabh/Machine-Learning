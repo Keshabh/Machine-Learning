{
 "cells": [
  {
   "cell_type": "code",
   "execution_count": 1,
   "id": "a43f2476",
   "metadata": {
    "_cell_guid": "b1076dfc-b9ad-4769-8c92-a6c4dae69d19",
    "_uuid": "8f2839f25d086af736a60e9eeb907d3b93b6e0e5",
    "editable": false,
    "execution": {
     "iopub.execute_input": "2022-10-11T16:33:53.697431Z",
     "iopub.status.busy": "2022-10-11T16:33:53.696803Z",
     "iopub.status.idle": "2022-10-11T16:33:53.719263Z",
     "shell.execute_reply": "2022-10-11T16:33:53.718023Z"
    },
    "papermill": {
     "duration": 0.038973,
     "end_time": "2022-10-11T16:33:53.723084",
     "exception": false,
     "start_time": "2022-10-11T16:33:53.684111",
     "status": "completed"
    },
    "tags": []
   },
   "outputs": [
    {
     "name": "stdout",
     "output_type": "stream",
     "text": [
      "/kaggle/input/iris-flower-dataset/IRIS.csv\n"
     ]
    }
   ],
   "source": [
    "# This Python 3 environment comes with many helpful analytics libraries installed\n",
    "# It is defined by the kaggle/python Docker image: https://github.com/kaggle/docker-python\n",
    "# For example, here's several helpful packages to load\n",
    "\n",
    "import numpy as np # linear algebra\n",
    "import pandas as pd # data processing, CSV file I/O (e.g. pd.read_csv)\n",
    "\n",
    "# Input data files are available in the read-only \"../input/\" directory\n",
    "# For example, running this (by clicking run or pressing Shift+Enter) will list all files under the input directory\n",
    "\n",
    "import os\n",
    "for dirname, _, filenames in os.walk('/kaggle/input'):\n",
    "    for filename in filenames:\n",
    "        print(os.path.join(dirname, filename))\n",
    "\n",
    "# You can write up to 20GB to the current directory (/kaggle/working/) that gets preserved as output when you create a version using \"Save & Run All\" \n",
    "# You can also write temporary files to /kaggle/temp/, but they won't be saved outside of the current session"
   ]
  },
  {
   "cell_type": "code",
   "execution_count": 2,
   "id": "ffd4f206",
   "metadata": {
    "editable": false,
    "execution": {
     "iopub.execute_input": "2022-10-11T16:33:53.745473Z",
     "iopub.status.busy": "2022-10-11T16:33:53.744628Z",
     "iopub.status.idle": "2022-10-11T16:33:53.794178Z",
     "shell.execute_reply": "2022-10-11T16:33:53.792920Z"
    },
    "papermill": {
     "duration": 0.063199,
     "end_time": "2022-10-11T16:33:53.796549",
     "exception": false,
     "start_time": "2022-10-11T16:33:53.733350",
     "status": "completed"
    },
    "tags": []
   },
   "outputs": [
    {
     "data": {
      "text/html": [
       "<div>\n",
       "<style scoped>\n",
       "    .dataframe tbody tr th:only-of-type {\n",
       "        vertical-align: middle;\n",
       "    }\n",
       "\n",
       "    .dataframe tbody tr th {\n",
       "        vertical-align: top;\n",
       "    }\n",
       "\n",
       "    .dataframe thead th {\n",
       "        text-align: right;\n",
       "    }\n",
       "</style>\n",
       "<table border=\"1\" class=\"dataframe\">\n",
       "  <thead>\n",
       "    <tr style=\"text-align: right;\">\n",
       "      <th></th>\n",
       "      <th>sepal_length</th>\n",
       "      <th>sepal_width</th>\n",
       "      <th>petal_length</th>\n",
       "      <th>petal_width</th>\n",
       "      <th>species</th>\n",
       "    </tr>\n",
       "  </thead>\n",
       "  <tbody>\n",
       "    <tr>\n",
       "      <th>0</th>\n",
       "      <td>5.1</td>\n",
       "      <td>3.5</td>\n",
       "      <td>1.4</td>\n",
       "      <td>0.2</td>\n",
       "      <td>Iris-setosa</td>\n",
       "    </tr>\n",
       "    <tr>\n",
       "      <th>1</th>\n",
       "      <td>4.9</td>\n",
       "      <td>3.0</td>\n",
       "      <td>1.4</td>\n",
       "      <td>0.2</td>\n",
       "      <td>Iris-setosa</td>\n",
       "    </tr>\n",
       "    <tr>\n",
       "      <th>2</th>\n",
       "      <td>4.7</td>\n",
       "      <td>3.2</td>\n",
       "      <td>1.3</td>\n",
       "      <td>0.2</td>\n",
       "      <td>Iris-setosa</td>\n",
       "    </tr>\n",
       "    <tr>\n",
       "      <th>3</th>\n",
       "      <td>4.6</td>\n",
       "      <td>3.1</td>\n",
       "      <td>1.5</td>\n",
       "      <td>0.2</td>\n",
       "      <td>Iris-setosa</td>\n",
       "    </tr>\n",
       "    <tr>\n",
       "      <th>4</th>\n",
       "      <td>5.0</td>\n",
       "      <td>3.6</td>\n",
       "      <td>1.4</td>\n",
       "      <td>0.2</td>\n",
       "      <td>Iris-setosa</td>\n",
       "    </tr>\n",
       "  </tbody>\n",
       "</table>\n",
       "</div>"
      ],
      "text/plain": [
       "   sepal_length  sepal_width  petal_length  petal_width      species\n",
       "0           5.1          3.5           1.4          0.2  Iris-setosa\n",
       "1           4.9          3.0           1.4          0.2  Iris-setosa\n",
       "2           4.7          3.2           1.3          0.2  Iris-setosa\n",
       "3           4.6          3.1           1.5          0.2  Iris-setosa\n",
       "4           5.0          3.6           1.4          0.2  Iris-setosa"
      ]
     },
     "execution_count": 2,
     "metadata": {},
     "output_type": "execute_result"
    }
   ],
   "source": [
    "#read the dataset\n",
    "path=\"../input/iris-flower-dataset/IRIS.csv\"\n",
    "data = pd.read_csv(path)\n",
    "data.head()"
   ]
  },
  {
   "cell_type": "code",
   "execution_count": 3,
   "id": "829769c4",
   "metadata": {
    "editable": false,
    "execution": {
     "iopub.execute_input": "2022-10-11T16:33:53.817295Z",
     "iopub.status.busy": "2022-10-11T16:33:53.816879Z",
     "iopub.status.idle": "2022-10-11T16:33:53.841239Z",
     "shell.execute_reply": "2022-10-11T16:33:53.839392Z"
    },
    "papermill": {
     "duration": 0.038442,
     "end_time": "2022-10-11T16:33:53.844463",
     "exception": false,
     "start_time": "2022-10-11T16:33:53.806021",
     "status": "completed"
    },
    "tags": []
   },
   "outputs": [
    {
     "name": "stdout",
     "output_type": "stream",
     "text": [
      "<class 'pandas.core.frame.DataFrame'>\n",
      "RangeIndex: 150 entries, 0 to 149\n",
      "Data columns (total 5 columns):\n",
      " #   Column        Non-Null Count  Dtype  \n",
      "---  ------        --------------  -----  \n",
      " 0   sepal_length  150 non-null    float64\n",
      " 1   sepal_width   150 non-null    float64\n",
      " 2   petal_length  150 non-null    float64\n",
      " 3   petal_width   150 non-null    float64\n",
      " 4   species       150 non-null    object \n",
      "dtypes: float64(4), object(1)\n",
      "memory usage: 6.0+ KB\n"
     ]
    }
   ],
   "source": [
    "#lets gets some info of the attributes\n",
    "data.info()"
   ]
  },
  {
   "cell_type": "code",
   "execution_count": 4,
   "id": "abf2fd43",
   "metadata": {
    "editable": false,
    "execution": {
     "iopub.execute_input": "2022-10-11T16:33:53.865964Z",
     "iopub.status.busy": "2022-10-11T16:33:53.865151Z",
     "iopub.status.idle": "2022-10-11T16:33:53.892623Z",
     "shell.execute_reply": "2022-10-11T16:33:53.891489Z"
    },
    "papermill": {
     "duration": 0.040891,
     "end_time": "2022-10-11T16:33:53.895158",
     "exception": false,
     "start_time": "2022-10-11T16:33:53.854267",
     "status": "completed"
    },
    "tags": []
   },
   "outputs": [
    {
     "data": {
      "text/html": [
       "<div>\n",
       "<style scoped>\n",
       "    .dataframe tbody tr th:only-of-type {\n",
       "        vertical-align: middle;\n",
       "    }\n",
       "\n",
       "    .dataframe tbody tr th {\n",
       "        vertical-align: top;\n",
       "    }\n",
       "\n",
       "    .dataframe thead th {\n",
       "        text-align: right;\n",
       "    }\n",
       "</style>\n",
       "<table border=\"1\" class=\"dataframe\">\n",
       "  <thead>\n",
       "    <tr style=\"text-align: right;\">\n",
       "      <th></th>\n",
       "      <th>sepal_length</th>\n",
       "      <th>sepal_width</th>\n",
       "      <th>petal_length</th>\n",
       "      <th>petal_width</th>\n",
       "    </tr>\n",
       "  </thead>\n",
       "  <tbody>\n",
       "    <tr>\n",
       "      <th>count</th>\n",
       "      <td>150.000000</td>\n",
       "      <td>150.000000</td>\n",
       "      <td>150.000000</td>\n",
       "      <td>150.000000</td>\n",
       "    </tr>\n",
       "    <tr>\n",
       "      <th>mean</th>\n",
       "      <td>5.843333</td>\n",
       "      <td>3.054000</td>\n",
       "      <td>3.758667</td>\n",
       "      <td>1.198667</td>\n",
       "    </tr>\n",
       "    <tr>\n",
       "      <th>std</th>\n",
       "      <td>0.828066</td>\n",
       "      <td>0.433594</td>\n",
       "      <td>1.764420</td>\n",
       "      <td>0.763161</td>\n",
       "    </tr>\n",
       "    <tr>\n",
       "      <th>min</th>\n",
       "      <td>4.300000</td>\n",
       "      <td>2.000000</td>\n",
       "      <td>1.000000</td>\n",
       "      <td>0.100000</td>\n",
       "    </tr>\n",
       "    <tr>\n",
       "      <th>25%</th>\n",
       "      <td>5.100000</td>\n",
       "      <td>2.800000</td>\n",
       "      <td>1.600000</td>\n",
       "      <td>0.300000</td>\n",
       "    </tr>\n",
       "    <tr>\n",
       "      <th>50%</th>\n",
       "      <td>5.800000</td>\n",
       "      <td>3.000000</td>\n",
       "      <td>4.350000</td>\n",
       "      <td>1.300000</td>\n",
       "    </tr>\n",
       "    <tr>\n",
       "      <th>75%</th>\n",
       "      <td>6.400000</td>\n",
       "      <td>3.300000</td>\n",
       "      <td>5.100000</td>\n",
       "      <td>1.800000</td>\n",
       "    </tr>\n",
       "    <tr>\n",
       "      <th>max</th>\n",
       "      <td>7.900000</td>\n",
       "      <td>4.400000</td>\n",
       "      <td>6.900000</td>\n",
       "      <td>2.500000</td>\n",
       "    </tr>\n",
       "  </tbody>\n",
       "</table>\n",
       "</div>"
      ],
      "text/plain": [
       "       sepal_length  sepal_width  petal_length  petal_width\n",
       "count    150.000000   150.000000    150.000000   150.000000\n",
       "mean       5.843333     3.054000      3.758667     1.198667\n",
       "std        0.828066     0.433594      1.764420     0.763161\n",
       "min        4.300000     2.000000      1.000000     0.100000\n",
       "25%        5.100000     2.800000      1.600000     0.300000\n",
       "50%        5.800000     3.000000      4.350000     1.300000\n",
       "75%        6.400000     3.300000      5.100000     1.800000\n",
       "max        7.900000     4.400000      6.900000     2.500000"
      ]
     },
     "execution_count": 4,
     "metadata": {},
     "output_type": "execute_result"
    }
   ],
   "source": [
    "#lets get some statistical data on the attributes\n",
    "data.describe()"
   ]
  },
  {
   "cell_type": "code",
   "execution_count": 5,
   "id": "73f0581a",
   "metadata": {
    "editable": false,
    "execution": {
     "iopub.execute_input": "2022-10-11T16:33:53.917592Z",
     "iopub.status.busy": "2022-10-11T16:33:53.917178Z",
     "iopub.status.idle": "2022-10-11T16:33:53.925352Z",
     "shell.execute_reply": "2022-10-11T16:33:53.924240Z"
    },
    "papermill": {
     "duration": 0.022763,
     "end_time": "2022-10-11T16:33:53.927715",
     "exception": false,
     "start_time": "2022-10-11T16:33:53.904952",
     "status": "completed"
    },
    "tags": []
   },
   "outputs": [
    {
     "data": {
      "text/plain": [
       "Iris-setosa        50\n",
       "Iris-versicolor    50\n",
       "Iris-virginica     50\n",
       "Name: species, dtype: int64"
      ]
     },
     "execution_count": 5,
     "metadata": {},
     "output_type": "execute_result"
    }
   ],
   "source": [
    "#lets see the freuqency of each labels we have.\n",
    "data['species'].value_counts()"
   ]
  },
  {
   "cell_type": "markdown",
   "id": "d878b2ee",
   "metadata": {
    "editable": false,
    "papermill": {
     "duration": 0.009428,
     "end_time": "2022-10-11T16:33:53.946942",
     "exception": false,
     "start_time": "2022-10-11T16:33:53.937514",
     "status": "completed"
    },
    "tags": []
   },
   "source": [
    "#### For each label, we have 50 data's, so data is equally split between all 3 classes."
   ]
  },
  {
   "cell_type": "markdown",
   "id": "067608e1",
   "metadata": {
    "editable": false,
    "execution": {
     "iopub.execute_input": "2022-10-10T07:23:41.739206Z",
     "iopub.status.busy": "2022-10-10T07:23:41.738741Z",
     "iopub.status.idle": "2022-10-10T07:23:41.745444Z",
     "shell.execute_reply": "2022-10-10T07:23:41.743872Z",
     "shell.execute_reply.started": "2022-10-10T07:23:41.739171Z"
    },
    "papermill": {
     "duration": 0.009376,
     "end_time": "2022-10-11T16:33:53.965993",
     "exception": false,
     "start_time": "2022-10-11T16:33:53.956617",
     "status": "completed"
    },
    "tags": []
   },
   "source": [
    "## lets perform some pre-processing on data."
   ]
  },
  {
   "cell_type": "code",
   "execution_count": 6,
   "id": "99dd6db1",
   "metadata": {
    "editable": false,
    "execution": {
     "iopub.execute_input": "2022-10-11T16:33:53.987753Z",
     "iopub.status.busy": "2022-10-11T16:33:53.986914Z",
     "iopub.status.idle": "2022-10-11T16:33:53.996362Z",
     "shell.execute_reply": "2022-10-11T16:33:53.995383Z"
    },
    "papermill": {
     "duration": 0.023158,
     "end_time": "2022-10-11T16:33:53.998751",
     "exception": false,
     "start_time": "2022-10-11T16:33:53.975593",
     "status": "completed"
    },
    "tags": []
   },
   "outputs": [
    {
     "data": {
      "text/plain": [
       "sepal_length    0\n",
       "sepal_width     0\n",
       "petal_length    0\n",
       "petal_width     0\n",
       "species         0\n",
       "dtype: int64"
      ]
     },
     "execution_count": 6,
     "metadata": {},
     "output_type": "execute_result"
    }
   ],
   "source": [
    "#lets check if we have any null values in any column.\n",
    "data.isnull().sum()"
   ]
  },
  {
   "cell_type": "markdown",
   "id": "4c186cca",
   "metadata": {
    "editable": false,
    "papermill": {
     "duration": 0.009739,
     "end_time": "2022-10-11T16:33:54.018937",
     "exception": false,
     "start_time": "2022-10-11T16:33:54.009198",
     "status": "completed"
    },
    "tags": []
   },
   "source": [
    "#### In each column 0, represents the total number of NULL values in each column, which is NILL here."
   ]
  },
  {
   "cell_type": "code",
   "execution_count": 7,
   "id": "c0006387",
   "metadata": {
    "editable": false,
    "execution": {
     "iopub.execute_input": "2022-10-11T16:33:54.040676Z",
     "iopub.status.busy": "2022-10-11T16:33:54.040270Z",
     "iopub.status.idle": "2022-10-11T16:33:54.237856Z",
     "shell.execute_reply": "2022-10-11T16:33:54.236637Z"
    },
    "papermill": {
     "duration": 0.211635,
     "end_time": "2022-10-11T16:33:54.240537",
     "exception": false,
     "start_time": "2022-10-11T16:33:54.028902",
     "status": "completed"
    },
    "tags": []
   },
   "outputs": [
    {
     "data": {
      "text/plain": [
       "(array([50.,  0.,  0.,  0.,  0., 50.,  0.,  0.,  0., 50.]),\n",
       " array([0. , 0.2, 0.4, 0.6, 0.8, 1. , 1.2, 1.4, 1.6, 1.8, 2. ]),\n",
       " <BarContainer object of 10 artists>)"
      ]
     },
     "execution_count": 7,
     "metadata": {},
     "output_type": "execute_result"
    },
    {
     "data": {
      "image/png": "[encoded data removed]",
      "text/plain": [
       "<Figure size 432x288 with 1 Axes>"
      ]
     },
     "metadata": {
      "needs_background": "light"
     },
     "output_type": "display_data"
    }
   ],
   "source": [
    "import matplotlib.pyplot as plt\n",
    "#lets  find the unique values and the frequency for each attribites.\n",
    "plt.hist(data['species'])"
   ]
  },
  {
   "cell_type": "code",
   "execution_count": 8,
   "id": "28033c6d",
   "metadata": {
    "editable": false,
    "execution": {
     "iopub.execute_input": "2022-10-11T16:33:54.263146Z",
     "iopub.status.busy": "2022-10-11T16:33:54.262718Z",
     "iopub.status.idle": "2022-10-11T16:33:54.465053Z",
     "shell.execute_reply": "2022-10-11T16:33:54.463949Z"
    },
    "papermill": {
     "duration": 0.216672,
     "end_time": "2022-10-11T16:33:54.467493",
     "exception": false,
     "start_time": "2022-10-11T16:33:54.250821",
     "status": "completed"
    },
    "tags": []
   },
   "outputs": [
    {
     "data": {
      "text/plain": [
       "(array([ 9., 23., 14., 27., 16., 26., 18.,  6.,  5.,  6.]),\n",
       " array([4.3 , 4.66, 5.02, 5.38, 5.74, 6.1 , 6.46, 6.82, 7.18, 7.54, 7.9 ]),\n",
       " <BarContainer object of 10 artists>)"
      ]
     },
     "execution_count": 8,
     "metadata": {},
     "output_type": "execute_result"
    },
    {
     "data": {
      "image/png": "[encoded data removed]",
      "text/plain": [
       "<Figure size 432x288 with 1 Axes>"
      ]
     },
     "metadata": {
      "needs_background": "light"
     },
     "output_type": "display_data"
    }
   ],
   "source": [
    "#lets see the same for sepal_length\n",
    "plt.hist(data['sepal_length'])"
   ]
  },
  {
   "cell_type": "markdown",
   "id": "78f00ad9",
   "metadata": {
    "editable": false,
    "papermill": {
     "duration": 0.010679,
     "end_time": "2022-10-11T16:33:54.488996",
     "exception": false,
     "start_time": "2022-10-11T16:33:54.478317",
     "status": "completed"
    },
    "tags": []
   },
   "source": [
    "#### most of the iris flower sepal length lies between 5.0 to 6.5\n",
    "#### for speal length 5.5, we have max number of flowers."
   ]
  },
  {
   "cell_type": "code",
   "execution_count": 9,
   "id": "017da694",
   "metadata": {
    "editable": false,
    "execution": {
     "iopub.execute_input": "2022-10-11T16:33:54.511740Z",
     "iopub.status.busy": "2022-10-11T16:33:54.511358Z",
     "iopub.status.idle": "2022-10-11T16:33:54.704942Z",
     "shell.execute_reply": "2022-10-11T16:33:54.703589Z"
    },
    "papermill": {
     "duration": 0.207959,
     "end_time": "2022-10-11T16:33:54.707596",
     "exception": false,
     "start_time": "2022-10-11T16:33:54.499637",
     "status": "completed"
    },
    "tags": []
   },
   "outputs": [
    {
     "data": {
      "text/plain": [
       "(array([ 4.,  7., 22., 24., 38., 31.,  9., 11.,  2.,  2.]),\n",
       " array([2.  , 2.24, 2.48, 2.72, 2.96, 3.2 , 3.44, 3.68, 3.92, 4.16, 4.4 ]),\n",
       " <BarContainer object of 10 artists>)"
      ]
     },
     "execution_count": 9,
     "metadata": {},
     "output_type": "execute_result"
    },
    {
     "data": {
      "image/png": "[encoded data removed]",
      "text/plain": [
       "<Figure size 432x288 with 1 Axes>"
      ]
     },
     "metadata": {
      "needs_background": "light"
     },
     "output_type": "display_data"
    }
   ],
   "source": [
    "#lets see the same for sepal_width\n",
    "plt.hist(data['sepal_width'])"
   ]
  },
  {
   "cell_type": "markdown",
   "id": "cae826e5",
   "metadata": {
    "editable": false,
    "papermill": {
     "duration": 0.010678,
     "end_time": "2022-10-11T16:33:54.729606",
     "exception": false,
     "start_time": "2022-10-11T16:33:54.718928",
     "status": "completed"
    },
    "tags": []
   },
   "source": [
    "#### Max number of flowers have sepal width 3.0."
   ]
  },
  {
   "cell_type": "code",
   "execution_count": 10,
   "id": "c67c29c4",
   "metadata": {
    "editable": false,
    "execution": {
     "iopub.execute_input": "2022-10-11T16:33:54.753048Z",
     "iopub.status.busy": "2022-10-11T16:33:54.752644Z",
     "iopub.status.idle": "2022-10-11T16:33:54.944776Z",
     "shell.execute_reply": "2022-10-11T16:33:54.943751Z"
    },
    "papermill": {
     "duration": 0.207077,
     "end_time": "2022-10-11T16:33:54.947581",
     "exception": false,
     "start_time": "2022-10-11T16:33:54.740504",
     "status": "completed"
    },
    "tags": []
   },
   "outputs": [
    {
     "data": {
      "text/plain": [
       "(array([37., 13.,  0.,  3.,  8., 26., 29., 18., 11.,  5.]),\n",
       " array([1.  , 1.59, 2.18, 2.77, 3.36, 3.95, 4.54, 5.13, 5.72, 6.31, 6.9 ]),\n",
       " <BarContainer object of 10 artists>)"
      ]
     },
     "execution_count": 10,
     "metadata": {},
     "output_type": "execute_result"
    },
    {
     "data": {
      "image/png": "[encoded data removed]",
      "text/plain": [
       "<Figure size 432x288 with 1 Axes>"
      ]
     },
     "metadata": {
      "needs_background": "light"
     },
     "output_type": "display_data"
    }
   ],
   "source": [
    "#lets see the same for petal_length\n",
    "plt.hist(data['petal_length'])"
   ]
  },
  {
   "cell_type": "markdown",
   "id": "24d063c1",
   "metadata": {
    "editable": false,
    "papermill": {
     "duration": 0.010876,
     "end_time": "2022-10-11T16:33:54.970244",
     "exception": false,
     "start_time": "2022-10-11T16:33:54.959368",
     "status": "completed"
    },
    "tags": []
   },
   "source": [
    "#### This data is not conintuos, which means we dont have any iris flower with petal length in the range 2 to 3.\n",
    "#### And for smaller petal length, we have max number of flowers."
   ]
  },
  {
   "cell_type": "code",
   "execution_count": 11,
   "id": "056218a1",
   "metadata": {
    "editable": false,
    "execution": {
     "iopub.execute_input": "2022-10-11T16:33:54.994680Z",
     "iopub.status.busy": "2022-10-11T16:33:54.994245Z",
     "iopub.status.idle": "2022-10-11T16:33:55.191195Z",
     "shell.execute_reply": "2022-10-11T16:33:55.189945Z"
    },
    "papermill": {
     "duration": 0.212104,
     "end_time": "2022-10-11T16:33:55.193664",
     "exception": false,
     "start_time": "2022-10-11T16:33:54.981560",
     "status": "completed"
    },
    "tags": []
   },
   "outputs": [
    {
     "data": {
      "text/plain": [
       "(array([41.,  8.,  1.,  7.,  8., 33.,  6., 23.,  9., 14.]),\n",
       " array([0.1 , 0.34, 0.58, 0.82, 1.06, 1.3 , 1.54, 1.78, 2.02, 2.26, 2.5 ]),\n",
       " <BarContainer object of 10 artists>)"
      ]
     },
     "execution_count": 11,
     "metadata": {},
     "output_type": "execute_result"
    },
    {
     "data": {
      "image/png": "[encoded data removed]",
      "text/plain": [
       "<Figure size 432x288 with 1 Axes>"
      ]
     },
     "metadata": {
      "needs_background": "light"
     },
     "output_type": "display_data"
    }
   ],
   "source": [
    "#lets see the same for petal_width\n",
    "plt.hist(data['petal_width'])"
   ]
  },
  {
   "cell_type": "markdown",
   "id": "e710a5ed",
   "metadata": {
    "editable": false,
    "papermill": {
     "duration": 0.011303,
     "end_time": "2022-10-11T16:33:55.216559",
     "exception": false,
     "start_time": "2022-10-11T16:33:55.205256",
     "status": "completed"
    },
    "tags": []
   },
   "source": [
    "#### here also, for smaller petal width, we have max number of flowers."
   ]
  },
  {
   "cell_type": "code",
   "execution_count": 12,
   "id": "688eab70",
   "metadata": {
    "editable": false,
    "execution": {
     "iopub.execute_input": "2022-10-11T16:33:55.241396Z",
     "iopub.status.busy": "2022-10-11T16:33:55.240959Z",
     "iopub.status.idle": "2022-10-11T16:33:55.522820Z",
     "shell.execute_reply": "2022-10-11T16:33:55.521651Z"
    },
    "papermill": {
     "duration": 0.29707,
     "end_time": "2022-10-11T16:33:55.525179",
     "exception": false,
     "start_time": "2022-10-11T16:33:55.228109",
     "status": "completed"
    },
    "tags": []
   },
   "outputs": [
    {
     "data": {
      "text/plain": [
       "<matplotlib.collections.PathCollection at 0x7f42e621f390>"
      ]
     },
     "execution_count": 12,
     "metadata": {},
     "output_type": "execute_result"
    },
    {
     "data": {
      "image/png": "[encoded data removed]",
      "text/plain": [
       "<Figure size 432x288 with 1 Axes>"
      ]
     },
     "metadata": {
      "needs_background": "light"
     },
     "output_type": "display_data"
    }
   ],
   "source": [
    "#now lets find the relation between each attributes with each other and with the labels.\n",
    "#lets see the relationship of sepal length with species.\n",
    "plt.scatter(data['sepal_length'],data['species'])"
   ]
  },
  {
   "cell_type": "markdown",
   "id": "8481e0c2",
   "metadata": {
    "editable": false,
    "papermill": {
     "duration": 0.011497,
     "end_time": "2022-10-11T16:33:55.548598",
     "exception": false,
     "start_time": "2022-10-11T16:33:55.537101",
     "status": "completed"
    },
    "tags": []
   },
   "source": [
    "#### To some extent, we can say that as we are increasing the sepal length, class of the flower is also changing from setosa to versicolor to virginica.\n",
    "#### But still, it does not seem linearly seperable."
   ]
  },
  {
   "cell_type": "code",
   "execution_count": 13,
   "id": "6ce93f27",
   "metadata": {
    "editable": false,
    "execution": {
     "iopub.execute_input": "2022-10-11T16:33:55.574783Z",
     "iopub.status.busy": "2022-10-11T16:33:55.574045Z",
     "iopub.status.idle": "2022-10-11T16:33:55.730244Z",
     "shell.execute_reply": "2022-10-11T16:33:55.729080Z"
    },
    "papermill": {
     "duration": 0.171959,
     "end_time": "2022-10-11T16:33:55.732782",
     "exception": false,
     "start_time": "2022-10-11T16:33:55.560823",
     "status": "completed"
    },
    "tags": []
   },
   "outputs": [
    {
     "data": {
      "text/plain": [
       "<matplotlib.collections.PathCollection at 0x7f42dfae8190>"
      ]
     },
     "execution_count": 13,
     "metadata": {},
     "output_type": "execute_result"
    },
    {
     "data": {
      "image/png": "[encoded data removed]",
      "text/plain": [
       "<Figure size 432x288 with 1 Axes>"
      ]
     },
     "metadata": {
      "needs_background": "light"
     },
     "output_type": "display_data"
    }
   ],
   "source": [
    "#lets check the same for sepal_width vs species\n",
    "plt.scatter(data['sepal_width'],data['species'])"
   ]
  },
  {
   "cell_type": "markdown",
   "id": "269f9d4e",
   "metadata": {
    "editable": false,
    "papermill": {
     "duration": 0.012072,
     "end_time": "2022-10-11T16:33:55.757243",
     "exception": false,
     "start_time": "2022-10-11T16:33:55.745171",
     "status": "completed"
    },
    "tags": []
   },
   "source": [
    "#### It also does not seem very much linearly seperable.\n",
    "#### But we can presume one thing that, after sepal width of 3.8, we will have iris-setosa."
   ]
  },
  {
   "cell_type": "code",
   "execution_count": 14,
   "id": "acc8f48c",
   "metadata": {
    "editable": false,
    "execution": {
     "iopub.execute_input": "2022-10-11T16:33:55.783295Z",
     "iopub.status.busy": "2022-10-11T16:33:55.782861Z",
     "iopub.status.idle": "2022-10-11T16:33:55.942335Z",
     "shell.execute_reply": "2022-10-11T16:33:55.941450Z"
    },
    "papermill": {
     "duration": 0.175106,
     "end_time": "2022-10-11T16:33:55.944640",
     "exception": false,
     "start_time": "2022-10-11T16:33:55.769534",
     "status": "completed"
    },
    "tags": []
   },
   "outputs": [
    {
     "data": {
      "text/plain": [
       "<matplotlib.collections.PathCollection at 0x7f42dfa58450>"
      ]
     },
     "execution_count": 14,
     "metadata": {},
     "output_type": "execute_result"
    },
    {
     "data": {
      "image/png": "[encoded data removed]",
      "text/plain": [
       "<Figure size 432x288 with 1 Axes>"
      ]
     },
     "metadata": {
      "needs_background": "light"
     },
     "output_type": "display_data"
    }
   ],
   "source": [
    "#lets check the same for petal_length\n",
    "plt.scatter(data['petal_length'],data['species'])"
   ]
  },
  {
   "cell_type": "markdown",
   "id": "93451d74",
   "metadata": {
    "editable": false,
    "papermill": {
     "duration": 0.012068,
     "end_time": "2022-10-11T16:33:55.969135",
     "exception": false,
     "start_time": "2022-10-11T16:33:55.957067",
     "status": "completed"
    },
    "tags": []
   },
   "source": [
    "#### As petal length is increasing, classes are also changing, so to some extent it seems a good factor for classification."
   ]
  },
  {
   "cell_type": "code",
   "execution_count": 15,
   "id": "5ed571cf",
   "metadata": {
    "editable": false,
    "execution": {
     "iopub.execute_input": "2022-10-11T16:33:55.996379Z",
     "iopub.status.busy": "2022-10-11T16:33:55.995252Z",
     "iopub.status.idle": "2022-10-11T16:33:56.147883Z",
     "shell.execute_reply": "2022-10-11T16:33:56.147079Z"
    },
    "papermill": {
     "duration": 0.168887,
     "end_time": "2022-10-11T16:33:56.150414",
     "exception": false,
     "start_time": "2022-10-11T16:33:55.981527",
     "status": "completed"
    },
    "tags": []
   },
   "outputs": [
    {
     "data": {
      "text/plain": [
       "<matplotlib.collections.PathCollection at 0x7f42df9c7a90>"
      ]
     },
     "execution_count": 15,
     "metadata": {},
     "output_type": "execute_result"
    },
    {
     "data": {
      "image/png": "[encoded data removed]",
      "text/plain": [
       "<Figure size 432x288 with 1 Axes>"
      ]
     },
     "metadata": {
      "needs_background": "light"
     },
     "output_type": "display_data"
    }
   ],
   "source": [
    "#lets check the same for petal_width vs species\n",
    "plt.scatter(data['petal_width'],data['species'])"
   ]
  },
  {
   "cell_type": "markdown",
   "id": "280d7f86",
   "metadata": {
    "editable": false,
    "papermill": {
     "duration": 0.01233,
     "end_time": "2022-10-11T16:33:56.175616",
     "exception": false,
     "start_time": "2022-10-11T16:33:56.163286",
     "status": "completed"
    },
    "tags": []
   },
   "source": [
    "#### It gives similar observation."
   ]
  },
  {
   "cell_type": "code",
   "execution_count": 16,
   "id": "3b280b2e",
   "metadata": {
    "execution": {
     "iopub.execute_input": "2022-10-11T16:33:56.203304Z",
     "iopub.status.busy": "2022-10-11T16:33:56.202403Z",
     "iopub.status.idle": "2022-10-11T16:33:56.463526Z",
     "shell.execute_reply": "2022-10-11T16:33:56.462622Z"
    },
    "papermill": {
     "duration": 0.27772,
     "end_time": "2022-10-11T16:33:56.466035",
     "exception": false,
     "start_time": "2022-10-11T16:33:56.188315",
     "status": "completed"
    },
    "tags": []
   },
   "outputs": [
    {
     "data": {
      "text/plain": [
       "<matplotlib.legend.Legend at 0x7f42df976210>"
      ]
     },
     "execution_count": 16,
     "metadata": {},
     "output_type": "execute_result"
    },
    {
     "data": {
      "image/png": "[encoded data removed]",
      "text/plain": [
       "<Figure size 432x288 with 1 Axes>"
      ]
     },
     "metadata": {
      "needs_background": "light"
     },
     "output_type": "display_data"
    }
   ],
   "source": [
    "#lets see what combination of sepal length and seapl width has what class of flower.\n",
    "#lets plot sepal length vs sepal width scatter plot, where the color of the plot represents the class.\n",
    "colors=['red','blue','green']\n",
    "species=['Iris-setosa','Iris-versicolor','Iris-virginica']\n",
    "#lets plot for each class one by one on the same graph.\n",
    "for i in range(3):\n",
    "    plt.scatter(data[data['species']==species[i]]['sepal_length'],data[data['species']==species[i]]['sepal_width'],color=colors[i],label=species[i])\n",
    "plt.xlabel(\"Sepal Length\")\n",
    "plt.ylabel(\"Sepal Width\")\n",
    "plt.legend()\n",
    "    "
   ]
  },
  {
   "cell_type": "code",
   "execution_count": 17,
   "id": "bbdea11f",
   "metadata": {
    "execution": {
     "iopub.execute_input": "2022-10-11T16:33:56.495805Z",
     "iopub.status.busy": "2022-10-11T16:33:56.494814Z",
     "iopub.status.idle": "2022-10-11T16:33:56.715679Z",
     "shell.execute_reply": "2022-10-11T16:33:56.714479Z"
    },
    "papermill": {
     "duration": 0.238572,
     "end_time": "2022-10-11T16:33:56.718364",
     "exception": false,
     "start_time": "2022-10-11T16:33:56.479792",
     "status": "completed"
    },
    "tags": []
   },
   "outputs": [
    {
     "data": {
      "text/plain": [
       "<matplotlib.legend.Legend at 0x7f42df8a36d0>"
      ]
     },
     "execution_count": 17,
     "metadata": {},
     "output_type": "execute_result"
    },
    {
     "data": {
      "image/png": "[encoded data removed]",
      "text/plain": [
       "<Figure size 432x288 with 1 Axes>"
      ]
     },
     "metadata": {
      "needs_background": "light"
     },
     "output_type": "display_data"
    }
   ],
   "source": [
    "#lets see what combination of petal length and petal width has what class of flower.\n",
    "#lets plot petal length vs petal width scatter plot, where the color of the plot represents the class.\n",
    "colors=['red','blue','green']\n",
    "species=['Iris-setosa','Iris-versicolor','Iris-virginica']\n",
    "#lets plot for each class one by one on the same graph.\n",
    "for i in range(3):\n",
    "    plt.scatter(data[data['species']==species[i]]['petal_length'],data[data['species']==species[i]]['petal_width'],color=colors[i],label=species[i])\n",
    "plt.xlabel(\"Petal Length\")\n",
    "plt.ylabel(\"Petal Width\")\n",
    "plt.legend()\n",
    "    "
   ]
  },
  {
   "cell_type": "markdown",
   "id": "4904da2c",
   "metadata": {
    "papermill": {
     "duration": 0.013458,
     "end_time": "2022-10-11T16:33:56.745801",
     "exception": false,
     "start_time": "2022-10-11T16:33:56.732343",
     "status": "completed"
    },
    "tags": []
   },
   "source": [
    "#### From the above graph, we can say that it is linearly seperable, but overlaps a little between blue and green."
   ]
  },
  {
   "cell_type": "markdown",
   "id": "c11d2f73",
   "metadata": {
    "papermill": {
     "duration": 0.013277,
     "end_time": "2022-10-11T16:33:56.773108",
     "exception": false,
     "start_time": "2022-10-11T16:33:56.759831",
     "status": "completed"
    },
    "tags": []
   },
   "source": []
  },
  {
   "cell_type": "code",
   "execution_count": 18,
   "id": "0050867f",
   "metadata": {
    "execution": {
     "iopub.execute_input": "2022-10-11T16:33:56.803015Z",
     "iopub.status.busy": "2022-10-11T16:33:56.802595Z",
     "iopub.status.idle": "2022-10-11T16:33:57.076031Z",
     "shell.execute_reply": "2022-10-11T16:33:57.074714Z"
    },
    "papermill": {
     "duration": 0.291538,
     "end_time": "2022-10-11T16:33:57.078695",
     "exception": false,
     "start_time": "2022-10-11T16:33:56.787157",
     "status": "completed"
    },
    "tags": []
   },
   "outputs": [
    {
     "data": {
      "text/plain": [
       "<matplotlib.legend.Legend at 0x7f42df814910>"
      ]
     },
     "execution_count": 18,
     "metadata": {},
     "output_type": "execute_result"
    },
    {
     "data": {
      "image/png": "[encoded data removed]",
      "text/plain": [
       "<Figure size 432x288 with 1 Axes>"
      ]
     },
     "metadata": {
      "needs_background": "light"
     },
     "output_type": "display_data"
    }
   ],
   "source": [
    "#lets see what combination of sepal length and petal length has what class of flower.\n",
    "#lets plot sepal length vs petal width scatter plot, where the color of the plot represents the class.\n",
    "colors=['red','blue','green']\n",
    "species=['Iris-setosa','Iris-versicolor','Iris-virginica']\n",
    "#lets plot for each class one by one on the same graph.\n",
    "for i in range(3):\n",
    "    plt.scatter(data[data['species']==species[i]]['sepal_length'],data[data['species']==species[i]]['petal_length'],color=colors[i],label=species[i])\n",
    "plt.xlabel(\"Sepal Length\")\n",
    "plt.ylabel(\"Petal Length\")\n",
    "plt.legend()\n",
    "    "
   ]
  },
  {
   "cell_type": "code",
   "execution_count": 19,
   "id": "03e589da",
   "metadata": {
    "execution": {
     "iopub.execute_input": "2022-10-11T16:33:57.108733Z",
     "iopub.status.busy": "2022-10-11T16:33:57.108317Z",
     "iopub.status.idle": "2022-10-11T16:33:57.367163Z",
     "shell.execute_reply": "2022-10-11T16:33:57.365734Z"
    },
    "papermill": {
     "duration": 0.277106,
     "end_time": "2022-10-11T16:33:57.370184",
     "exception": false,
     "start_time": "2022-10-11T16:33:57.093078",
     "status": "completed"
    },
    "tags": []
   },
   "outputs": [
    {
     "data": {
      "text/plain": [
       "<matplotlib.legend.Legend at 0x7f42df7b50d0>"
      ]
     },
     "execution_count": 19,
     "metadata": {},
     "output_type": "execute_result"
    },
    {
     "data": {
      "image/png": "[encoded data removed]",
      "text/plain": [
       "<Figure size 432x288 with 1 Axes>"
      ]
     },
     "metadata": {
      "needs_background": "light"
     },
     "output_type": "display_data"
    }
   ],
   "source": [
    "#lets see what combination of sepal width and petal width has what class of flower.\n",
    "#lets plot sepal width vs petal width scatter plot, where the color of the plot represents the class.\n",
    "colors=['red','blue','green']\n",
    "species=['Iris-setosa','Iris-versicolor','Iris-virginica']\n",
    "#lets plot for each class one by one on the same graph.\n",
    "for i in range(3):\n",
    "    plt.scatter(data[data['species']==species[i]]['sepal_width'],data[data['species']==species[i]]['petal_width'],color=colors[i],label=species[i])\n",
    "plt.xlabel(\"Sepal Width\")\n",
    "plt.ylabel(\"Petal Width\")\n",
    "plt.legend()\n",
    "    "
   ]
  },
  {
   "cell_type": "markdown",
   "id": "485ed0d9",
   "metadata": {
    "papermill": {
     "duration": 0.014725,
     "end_time": "2022-10-11T16:33:57.400125",
     "exception": false,
     "start_time": "2022-10-11T16:33:57.385400",
     "status": "completed"
    },
    "tags": []
   },
   "source": [
    "#### From the last 3 graphs, we can observe that the these combination of attribites are good factors for classifying the labels."
   ]
  },
  {
   "cell_type": "code",
   "execution_count": 20,
   "id": "f4b2c849",
   "metadata": {
    "execution": {
     "iopub.execute_input": "2022-10-11T16:33:57.431137Z",
     "iopub.status.busy": "2022-10-11T16:33:57.430726Z",
     "iopub.status.idle": "2022-10-11T16:33:57.444598Z",
     "shell.execute_reply": "2022-10-11T16:33:57.443408Z"
    },
    "papermill": {
     "duration": 0.032292,
     "end_time": "2022-10-11T16:33:57.447071",
     "exception": false,
     "start_time": "2022-10-11T16:33:57.414779",
     "status": "completed"
    },
    "tags": []
   },
   "outputs": [
    {
     "data": {
      "text/html": [
       "<div>\n",
       "<style scoped>\n",
       "    .dataframe tbody tr th:only-of-type {\n",
       "        vertical-align: middle;\n",
       "    }\n",
       "\n",
       "    .dataframe tbody tr th {\n",
       "        vertical-align: top;\n",
       "    }\n",
       "\n",
       "    .dataframe thead th {\n",
       "        text-align: right;\n",
       "    }\n",
       "</style>\n",
       "<table border=\"1\" class=\"dataframe\">\n",
       "  <thead>\n",
       "    <tr style=\"text-align: right;\">\n",
       "      <th></th>\n",
       "      <th>sepal_length</th>\n",
       "      <th>sepal_width</th>\n",
       "      <th>petal_length</th>\n",
       "      <th>petal_width</th>\n",
       "    </tr>\n",
       "  </thead>\n",
       "  <tbody>\n",
       "    <tr>\n",
       "      <th>sepal_length</th>\n",
       "      <td>1.000000</td>\n",
       "      <td>-0.109369</td>\n",
       "      <td>0.871754</td>\n",
       "      <td>0.817954</td>\n",
       "    </tr>\n",
       "    <tr>\n",
       "      <th>sepal_width</th>\n",
       "      <td>-0.109369</td>\n",
       "      <td>1.000000</td>\n",
       "      <td>-0.420516</td>\n",
       "      <td>-0.356544</td>\n",
       "    </tr>\n",
       "    <tr>\n",
       "      <th>petal_length</th>\n",
       "      <td>0.871754</td>\n",
       "      <td>-0.420516</td>\n",
       "      <td>1.000000</td>\n",
       "      <td>0.962757</td>\n",
       "    </tr>\n",
       "    <tr>\n",
       "      <th>petal_width</th>\n",
       "      <td>0.817954</td>\n",
       "      <td>-0.356544</td>\n",
       "      <td>0.962757</td>\n",
       "      <td>1.000000</td>\n",
       "    </tr>\n",
       "  </tbody>\n",
       "</table>\n",
       "</div>"
      ],
      "text/plain": [
       "              sepal_length  sepal_width  petal_length  petal_width\n",
       "sepal_length      1.000000    -0.109369      0.871754     0.817954\n",
       "sepal_width      -0.109369     1.000000     -0.420516    -0.356544\n",
       "petal_length      0.871754    -0.420516      1.000000     0.962757\n",
       "petal_width       0.817954    -0.356544      0.962757     1.000000"
      ]
     },
     "execution_count": 20,
     "metadata": {},
     "output_type": "execute_result"
    }
   ],
   "source": [
    "#lets use correlation matrix to understand the relation or strength between attributes mathematically.\n",
    "data.corr()"
   ]
  },
  {
   "cell_type": "code",
   "execution_count": 21,
   "id": "d9a92e75",
   "metadata": {
    "execution": {
     "iopub.execute_input": "2022-10-11T16:33:57.478418Z",
     "iopub.status.busy": "2022-10-11T16:33:57.477923Z",
     "iopub.status.idle": "2022-10-11T16:33:58.723147Z",
     "shell.execute_reply": "2022-10-11T16:33:58.721982Z"
    },
    "papermill": {
     "duration": 1.263758,
     "end_time": "2022-10-11T16:33:58.725783",
     "exception": false,
     "start_time": "2022-10-11T16:33:57.462025",
     "status": "completed"
    },
    "tags": []
   },
   "outputs": [
    {
     "data": {
      "text/plain": [
       "<AxesSubplot:>"
      ]
     },
     "execution_count": 21,
     "metadata": {},
     "output_type": "execute_result"
    },
    {
     "data": {
      "image/png": "[encoded data removed]",
      "text/plain": [
       "<Figure size 360x360 with 2 Axes>"
      ]
     },
     "metadata": {
      "needs_background": "light"
     },
     "output_type": "display_data"
    }
   ],
   "source": [
    "#we can visualize it even with the help of heatmap.\n",
    "import seaborn as sns\n",
    "corr = data.corr()\n",
    "fig, ax = plt.subplots(figsize=(5,5))\n",
    "sns.heatmap(corr,annot=True,ax=ax) #annot is annotations which is correlation data, \n",
    "#making it true means, it will be visible in the graph.\n"
   ]
  },
  {
   "cell_type": "markdown",
   "id": "97c867db",
   "metadata": {
    "papermill": {
     "duration": 0.015758,
     "end_time": "2022-10-11T16:33:58.756739",
     "exception": false,
     "start_time": "2022-10-11T16:33:58.740981",
     "status": "completed"
    },
    "tags": []
   },
   "source": [
    "#### Lighter the color, higher is the relationship between the attributes, and denser the color, weaker the relationship."
   ]
  },
  {
   "cell_type": "code",
   "execution_count": 22,
   "id": "db2ab2f8",
   "metadata": {
    "execution": {
     "iopub.execute_input": "2022-10-11T16:33:58.789496Z",
     "iopub.status.busy": "2022-10-11T16:33:58.788625Z",
     "iopub.status.idle": "2022-10-11T16:33:59.079415Z",
     "shell.execute_reply": "2022-10-11T16:33:59.078297Z"
    },
    "papermill": {
     "duration": 0.309875,
     "end_time": "2022-10-11T16:33:59.081994",
     "exception": false,
     "start_time": "2022-10-11T16:33:58.772119",
     "status": "completed"
    },
    "tags": []
   },
   "outputs": [
    {
     "data": {
      "text/html": [
       "<div>\n",
       "<style scoped>\n",
       "    .dataframe tbody tr th:only-of-type {\n",
       "        vertical-align: middle;\n",
       "    }\n",
       "\n",
       "    .dataframe tbody tr th {\n",
       "        vertical-align: top;\n",
       "    }\n",
       "\n",
       "    .dataframe thead th {\n",
       "        text-align: right;\n",
       "    }\n",
       "</style>\n",
       "<table border=\"1\" class=\"dataframe\">\n",
       "  <thead>\n",
       "    <tr style=\"text-align: right;\">\n",
       "      <th></th>\n",
       "      <th>sepal_length</th>\n",
       "      <th>sepal_width</th>\n",
       "      <th>petal_length</th>\n",
       "      <th>petal_width</th>\n",
       "      <th>species</th>\n",
       "    </tr>\n",
       "  </thead>\n",
       "  <tbody>\n",
       "    <tr>\n",
       "      <th>0</th>\n",
       "      <td>5.1</td>\n",
       "      <td>3.5</td>\n",
       "      <td>1.4</td>\n",
       "      <td>0.2</td>\n",
       "      <td>0</td>\n",
       "    </tr>\n",
       "    <tr>\n",
       "      <th>1</th>\n",
       "      <td>4.9</td>\n",
       "      <td>3.0</td>\n",
       "      <td>1.4</td>\n",
       "      <td>0.2</td>\n",
       "      <td>0</td>\n",
       "    </tr>\n",
       "    <tr>\n",
       "      <th>2</th>\n",
       "      <td>4.7</td>\n",
       "      <td>3.2</td>\n",
       "      <td>1.3</td>\n",
       "      <td>0.2</td>\n",
       "      <td>0</td>\n",
       "    </tr>\n",
       "    <tr>\n",
       "      <th>3</th>\n",
       "      <td>4.6</td>\n",
       "      <td>3.1</td>\n",
       "      <td>1.5</td>\n",
       "      <td>0.2</td>\n",
       "      <td>0</td>\n",
       "    </tr>\n",
       "    <tr>\n",
       "      <th>4</th>\n",
       "      <td>5.0</td>\n",
       "      <td>3.6</td>\n",
       "      <td>1.4</td>\n",
       "      <td>0.2</td>\n",
       "      <td>0</td>\n",
       "    </tr>\n",
       "  </tbody>\n",
       "</table>\n",
       "</div>"
      ],
      "text/plain": [
       "   sepal_length  sepal_width  petal_length  petal_width  species\n",
       "0           5.1          3.5           1.4          0.2        0\n",
       "1           4.9          3.0           1.4          0.2        0\n",
       "2           4.7          3.2           1.3          0.2        0\n",
       "3           4.6          3.1           1.5          0.2        0\n",
       "4           5.0          3.6           1.4          0.2        0"
      ]
     },
     "execution_count": 22,
     "metadata": {},
     "output_type": "execute_result"
    }
   ],
   "source": [
    "#lets use label encoder to convert the labels into numberic form i.e machine readable form\n",
    "from sklearn.preprocessing import LabelEncoder\n",
    "l = LabelEncoder()\n",
    "data['species'] = l.fit_transform(data['species'])\n",
    "data.head()"
   ]
  },
  {
   "cell_type": "markdown",
   "id": "f7175ad9",
   "metadata": {
    "papermill": {
     "duration": 0.014808,
     "end_time": "2022-10-11T16:33:59.111965",
     "exception": false,
     "start_time": "2022-10-11T16:33:59.097157",
     "status": "completed"
    },
    "tags": []
   },
   "source": [
    "#### labels has been converted into numeric form such as 0, 1 and 2."
   ]
  },
  {
   "cell_type": "code",
   "execution_count": 23,
   "id": "f52d77f1",
   "metadata": {
    "execution": {
     "iopub.execute_input": "2022-10-11T16:33:59.144299Z",
     "iopub.status.busy": "2022-10-11T16:33:59.143485Z",
     "iopub.status.idle": "2022-10-11T16:33:59.210211Z",
     "shell.execute_reply": "2022-10-11T16:33:59.209028Z"
    },
    "papermill": {
     "duration": 0.086291,
     "end_time": "2022-10-11T16:33:59.213417",
     "exception": false,
     "start_time": "2022-10-11T16:33:59.127126",
     "status": "completed"
    },
    "tags": []
   },
   "outputs": [],
   "source": [
    "#Lets split the data now into 70 : 30\n",
    "from sklearn.model_selection import train_test_split\n",
    "X = data.drop(columns=['species'])\n",
    "Y = data['species']\n",
    "x_train, x_test , y_train, y_test = train_test_split(X,Y,test_size=0.3,random_state=3)"
   ]
  },
  {
   "cell_type": "code",
   "execution_count": 24,
   "id": "cf816cb5",
   "metadata": {
    "execution": {
     "iopub.execute_input": "2022-10-11T16:33:59.245513Z",
     "iopub.status.busy": "2022-10-11T16:33:59.244869Z",
     "iopub.status.idle": "2022-10-11T16:33:59.368186Z",
     "shell.execute_reply": "2022-10-11T16:33:59.366501Z"
    },
    "papermill": {
     "duration": 0.142068,
     "end_time": "2022-10-11T16:33:59.370740",
     "exception": false,
     "start_time": "2022-10-11T16:33:59.228672",
     "status": "completed"
    },
    "tags": []
   },
   "outputs": [
    {
     "name": "stdout",
     "output_type": "stream",
     "text": [
      "Accuracy:  97.77777777777777\n"
     ]
    },
    {
     "name": "stderr",
     "output_type": "stream",
     "text": [
      "/opt/conda/lib/python3.7/site-packages/sklearn/linear_model/_logistic.py:818: ConvergenceWarning: lbfgs failed to converge (status=1):\n",
      "STOP: TOTAL NO. of ITERATIONS REACHED LIMIT.\n",
      "\n",
      "Increase the number of iterations (max_iter) or scale the data as shown in:\n",
      "    https://scikit-learn.org/stable/modules/preprocessing.html\n",
      "Please also refer to the documentation for alternative solver options:\n",
      "    https://scikit-learn.org/stable/modules/linear_model.html#logistic-regression\n",
      "  extra_warning_msg=_LOGISTIC_SOLVER_CONVERGENCE_MSG,\n"
     ]
    }
   ],
   "source": [
    "#logistic regression\n",
    "from sklearn.linear_model import LogisticRegression\n",
    "model = LogisticRegression()\n",
    "model.fit(x_train,y_train)\n",
    "print(\"Accuracy: \",model.score(x_test,y_test)*100)"
   ]
  },
  {
   "cell_type": "code",
   "execution_count": 25,
   "id": "20130854",
   "metadata": {
    "execution": {
     "iopub.execute_input": "2022-10-11T16:33:59.403635Z",
     "iopub.status.busy": "2022-10-11T16:33:59.403111Z",
     "iopub.status.idle": "2022-10-11T16:33:59.469350Z",
     "shell.execute_reply": "2022-10-11T16:33:59.468036Z"
    },
    "papermill": {
     "duration": 0.085698,
     "end_time": "2022-10-11T16:33:59.471860",
     "exception": false,
     "start_time": "2022-10-11T16:33:59.386162",
     "status": "completed"
    },
    "tags": []
   },
   "outputs": [
    {
     "name": "stdout",
     "output_type": "stream",
     "text": [
      "Accuracy:  95.55555555555556\n"
     ]
    }
   ],
   "source": [
    "#k-nearest neighbors\n",
    "from sklearn.neighbors import KNeighborsClassifier\n",
    "model = KNeighborsClassifier()\n",
    "model.fit(x_train,y_train)\n",
    "print(\"Accuracy: \",model.score(x_test,y_test)*100)"
   ]
  },
  {
   "cell_type": "code",
   "execution_count": 26,
   "id": "806586d7",
   "metadata": {
    "execution": {
     "iopub.execute_input": "2022-10-11T16:33:59.504600Z",
     "iopub.status.busy": "2022-10-11T16:33:59.504152Z",
     "iopub.status.idle": "2022-10-11T16:33:59.540943Z",
     "shell.execute_reply": "2022-10-11T16:33:59.539598Z"
    },
    "papermill": {
     "duration": 0.055874,
     "end_time": "2022-10-11T16:33:59.543480",
     "exception": false,
     "start_time": "2022-10-11T16:33:59.487606",
     "status": "completed"
    },
    "tags": []
   },
   "outputs": [
    {
     "name": "stdout",
     "output_type": "stream",
     "text": [
      "Accuracy:  95.55555555555556\n"
     ]
    }
   ],
   "source": [
    "#Decision Tree\n",
    "from sklearn.tree import DecisionTreeClassifier\n",
    "model = DecisionTreeClassifier()\n",
    "model.fit(x_train,y_train)\n",
    "print(\"Accuracy: \",model.score(x_test,y_test)*100)"
   ]
  },
  {
   "cell_type": "code",
   "execution_count": null,
   "id": "17d257c6",
   "metadata": {
    "papermill": {
     "duration": 0.015236,
     "end_time": "2022-10-11T16:33:59.574282",
     "exception": false,
     "start_time": "2022-10-11T16:33:59.559046",
     "status": "completed"
    },
    "tags": []
   },
   "outputs": [],
   "source": []
  }
 ],
 "metadata": {
  "kernelspec": {
   "display_name": "Python 3",
   "language": "python",
   "name": "python3"
  },
  "language_info": {
   "codemirror_mode": {
    "name": "ipython",
    "version": 3
   },
   "file_extension": ".py",
   "mimetype": "text/x-python",
   "name": "python",
   "nbconvert_exporter": "python",
   "pygments_lexer": "ipython3",
   "version": "3.7.12"
  },
  "papermill": {
   "default_parameters": {},
   "duration": 16.017835,
   "end_time": "2022-10-11T16:34:00.413493",
   "environment_variables": {},
   "exception": null,
   "input_path": "__notebook__.ipynb",
   "output_path": "__notebook__.ipynb",
   "parameters": {},
   "start_time": "2022-10-11T16:33:44.395658",
   "version": "2.3.4"
  }
 },
 "nbformat": 4,
 "nbformat_minor": 5
}
