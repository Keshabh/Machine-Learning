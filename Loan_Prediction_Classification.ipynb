{
 "cells": [
  {
   "cell_type": "code",
   "execution_count": 1,
   "id": "a382cdb4",
   "metadata": {
    "_cell_guid": "b1076dfc-b9ad-4769-8c92-a6c4dae69d19",
    "_uuid": "8f2839f25d086af736a60e9eeb907d3b93b6e0e5",
    "execution": {
     "iopub.execute_input": "2022-10-11T15:25:21.459165Z",
     "iopub.status.busy": "2022-10-11T15:25:21.458542Z",
     "iopub.status.idle": "2022-10-11T15:25:21.480313Z",
     "shell.execute_reply": "2022-10-11T15:25:21.479426Z"
    },
    "papermill": {
     "duration": 0.040671,
     "end_time": "2022-10-11T15:25:21.483689",
     "exception": false,
     "start_time": "2022-10-11T15:25:21.443018",
     "status": "completed"
    },
    "tags": []
   },
   "outputs": [
    {
     "name": "stdout",
     "output_type": "stream",
     "text": [
      "/kaggle/input/loan-prediction-problem-dataset/test_Y3wMUE5_7gLdaTN.csv\n",
      "/kaggle/input/loan-prediction-problem-dataset/train_u6lujuX_CVtuZ9i.csv\n"
     ]
    }
   ],
   "source": [
    "# This Python 3 environment comes with many helpful analytics libraries installed\n",
    "# It is defined by the kaggle/python Docker image: https://github.com/kaggle/docker-python\n",
    "# For example, here's several helpful packages to load\n",
    "\n",
    "import numpy as np # linear algebra\n",
    "import pandas as pd # data processing, CSV file I/O (e.g. pd.read_csv)\n",
    "\n",
    "# Input data files are available in the read-only \"../input/\" directory\n",
    "# For example, running this (by clicking run or pressing Shift+Enter) will list all files under the input directory\n",
    "\n",
    "import os\n",
    "for dirname, _, filenames in os.walk('/kaggle/input'):\n",
    "    for filename in filenames:\n",
    "        print(os.path.join(dirname, filename))\n",
    "\n",
    "# You can write up to 20GB to the current directory (/kaggle/working/) that gets preserved as output when you create a version using \"Save & Run All\" \n",
    "# You can also write temporary files to /kaggle/temp/, but they won't be saved outside of the current session"
   ]
  },
  {
   "cell_type": "code",
   "execution_count": 2,
   "id": "a00abcd8",
   "metadata": {
    "execution": {
     "iopub.execute_input": "2022-10-11T15:25:21.512031Z",
     "iopub.status.busy": "2022-10-11T15:25:21.511240Z",
     "iopub.status.idle": "2022-10-11T15:25:21.560522Z",
     "shell.execute_reply": "2022-10-11T15:25:21.559316Z"
    },
    "papermill": {
     "duration": 0.065819,
     "end_time": "2022-10-11T15:25:21.562802",
     "exception": false,
     "start_time": "2022-10-11T15:25:21.496983",
     "status": "completed"
    },
    "tags": []
   },
   "outputs": [
    {
     "data": {
      "text/html": [
       "<div>\n",
       "<style scoped>\n",
       "    .dataframe tbody tr th:only-of-type {\n",
       "        vertical-align: middle;\n",
       "    }\n",
       "\n",
       "    .dataframe tbody tr th {\n",
       "        vertical-align: top;\n",
       "    }\n",
       "\n",
       "    .dataframe thead th {\n",
       "        text-align: right;\n",
       "    }\n",
       "</style>\n",
       "<table border=\"1\" class=\"dataframe\">\n",
       "  <thead>\n",
       "    <tr style=\"text-align: right;\">\n",
       "      <th></th>\n",
       "      <th>Loan_ID</th>\n",
       "      <th>Gender</th>\n",
       "      <th>Married</th>\n",
       "      <th>Dependents</th>\n",
       "      <th>Education</th>\n",
       "      <th>Self_Employed</th>\n",
       "      <th>ApplicantIncome</th>\n",
       "      <th>CoapplicantIncome</th>\n",
       "      <th>LoanAmount</th>\n",
       "      <th>Loan_Amount_Term</th>\n",
       "      <th>Credit_History</th>\n",
       "      <th>Property_Area</th>\n",
       "      <th>Loan_Status</th>\n",
       "    </tr>\n",
       "  </thead>\n",
       "  <tbody>\n",
       "    <tr>\n",
       "      <th>0</th>\n",
       "      <td>LP001002</td>\n",
       "      <td>Male</td>\n",
       "      <td>No</td>\n",
       "      <td>0</td>\n",
       "      <td>Graduate</td>\n",
       "      <td>No</td>\n",
       "      <td>5849</td>\n",
       "      <td>0.0</td>\n",
       "      <td>NaN</td>\n",
       "      <td>360.0</td>\n",
       "      <td>1.0</td>\n",
       "      <td>Urban</td>\n",
       "      <td>Y</td>\n",
       "    </tr>\n",
       "    <tr>\n",
       "      <th>1</th>\n",
       "      <td>LP001003</td>\n",
       "      <td>Male</td>\n",
       "      <td>Yes</td>\n",
       "      <td>1</td>\n",
       "      <td>Graduate</td>\n",
       "      <td>No</td>\n",
       "      <td>4583</td>\n",
       "      <td>1508.0</td>\n",
       "      <td>128.0</td>\n",
       "      <td>360.0</td>\n",
       "      <td>1.0</td>\n",
       "      <td>Rural</td>\n",
       "      <td>N</td>\n",
       "    </tr>\n",
       "    <tr>\n",
       "      <th>2</th>\n",
       "      <td>LP001005</td>\n",
       "      <td>Male</td>\n",
       "      <td>Yes</td>\n",
       "      <td>0</td>\n",
       "      <td>Graduate</td>\n",
       "      <td>Yes</td>\n",
       "      <td>3000</td>\n",
       "      <td>0.0</td>\n",
       "      <td>66.0</td>\n",
       "      <td>360.0</td>\n",
       "      <td>1.0</td>\n",
       "      <td>Urban</td>\n",
       "      <td>Y</td>\n",
       "    </tr>\n",
       "    <tr>\n",
       "      <th>3</th>\n",
       "      <td>LP001006</td>\n",
       "      <td>Male</td>\n",
       "      <td>Yes</td>\n",
       "      <td>0</td>\n",
       "      <td>Not Graduate</td>\n",
       "      <td>No</td>\n",
       "      <td>2583</td>\n",
       "      <td>2358.0</td>\n",
       "      <td>120.0</td>\n",
       "      <td>360.0</td>\n",
       "      <td>1.0</td>\n",
       "      <td>Urban</td>\n",
       "      <td>Y</td>\n",
       "    </tr>\n",
       "    <tr>\n",
       "      <th>4</th>\n",
       "      <td>LP001008</td>\n",
       "      <td>Male</td>\n",
       "      <td>No</td>\n",
       "      <td>0</td>\n",
       "      <td>Graduate</td>\n",
       "      <td>No</td>\n",
       "      <td>6000</td>\n",
       "      <td>0.0</td>\n",
       "      <td>141.0</td>\n",
       "      <td>360.0</td>\n",
       "      <td>1.0</td>\n",
       "      <td>Urban</td>\n",
       "      <td>Y</td>\n",
       "    </tr>\n",
       "  </tbody>\n",
       "</table>\n",
       "</div>"
      ],
      "text/plain": [
       "    Loan_ID Gender Married Dependents     Education Self_Employed  \\\n",
       "0  LP001002   Male      No          0      Graduate            No   \n",
       "1  LP001003   Male     Yes          1      Graduate            No   \n",
       "2  LP001005   Male     Yes          0      Graduate           Yes   \n",
       "3  LP001006   Male     Yes          0  Not Graduate            No   \n",
       "4  LP001008   Male      No          0      Graduate            No   \n",
       "\n",
       "   ApplicantIncome  CoapplicantIncome  LoanAmount  Loan_Amount_Term  \\\n",
       "0             5849                0.0         NaN             360.0   \n",
       "1             4583             1508.0       128.0             360.0   \n",
       "2             3000                0.0        66.0             360.0   \n",
       "3             2583             2358.0       120.0             360.0   \n",
       "4             6000                0.0       141.0             360.0   \n",
       "\n",
       "   Credit_History Property_Area Loan_Status  \n",
       "0             1.0         Urban           Y  \n",
       "1             1.0         Rural           N  \n",
       "2             1.0         Urban           Y  \n",
       "3             1.0         Urban           Y  \n",
       "4             1.0         Urban           Y  "
      ]
     },
     "execution_count": 2,
     "metadata": {},
     "output_type": "execute_result"
    }
   ],
   "source": [
    "#read the data\n",
    "path = \"../input/loan-prediction-problem-dataset/train_u6lujuX_CVtuZ9i.csv\"\n",
    "df = pd.read_csv(path)\n",
    "df.head()"
   ]
  },
  {
   "cell_type": "code",
   "execution_count": 3,
   "id": "fab307a9",
   "metadata": {
    "execution": {
     "iopub.execute_input": "2022-10-11T15:25:21.591039Z",
     "iopub.status.busy": "2022-10-11T15:25:21.590614Z",
     "iopub.status.idle": "2022-10-11T15:25:21.630458Z",
     "shell.execute_reply": "2022-10-11T15:25:21.629442Z"
    },
    "papermill": {
     "duration": 0.055809,
     "end_time": "2022-10-11T15:25:21.632768",
     "exception": false,
     "start_time": "2022-10-11T15:25:21.576959",
     "status": "completed"
    },
    "tags": []
   },
   "outputs": [
    {
     "data": {
      "text/html": [
       "<div>\n",
       "<style scoped>\n",
       "    .dataframe tbody tr th:only-of-type {\n",
       "        vertical-align: middle;\n",
       "    }\n",
       "\n",
       "    .dataframe tbody tr th {\n",
       "        vertical-align: top;\n",
       "    }\n",
       "\n",
       "    .dataframe thead th {\n",
       "        text-align: right;\n",
       "    }\n",
       "</style>\n",
       "<table border=\"1\" class=\"dataframe\">\n",
       "  <thead>\n",
       "    <tr style=\"text-align: right;\">\n",
       "      <th></th>\n",
       "      <th>ApplicantIncome</th>\n",
       "      <th>CoapplicantIncome</th>\n",
       "      <th>LoanAmount</th>\n",
       "      <th>Loan_Amount_Term</th>\n",
       "      <th>Credit_History</th>\n",
       "    </tr>\n",
       "  </thead>\n",
       "  <tbody>\n",
       "    <tr>\n",
       "      <th>count</th>\n",
       "      <td>614.000000</td>\n",
       "      <td>614.000000</td>\n",
       "      <td>592.000000</td>\n",
       "      <td>600.00000</td>\n",
       "      <td>564.000000</td>\n",
       "    </tr>\n",
       "    <tr>\n",
       "      <th>mean</th>\n",
       "      <td>5403.459283</td>\n",
       "      <td>1621.245798</td>\n",
       "      <td>146.412162</td>\n",
       "      <td>342.00000</td>\n",
       "      <td>0.842199</td>\n",
       "    </tr>\n",
       "    <tr>\n",
       "      <th>std</th>\n",
       "      <td>6109.041673</td>\n",
       "      <td>2926.248369</td>\n",
       "      <td>85.587325</td>\n",
       "      <td>65.12041</td>\n",
       "      <td>0.364878</td>\n",
       "    </tr>\n",
       "    <tr>\n",
       "      <th>min</th>\n",
       "      <td>150.000000</td>\n",
       "      <td>0.000000</td>\n",
       "      <td>9.000000</td>\n",
       "      <td>12.00000</td>\n",
       "      <td>0.000000</td>\n",
       "    </tr>\n",
       "    <tr>\n",
       "      <th>25%</th>\n",
       "      <td>2877.500000</td>\n",
       "      <td>0.000000</td>\n",
       "      <td>100.000000</td>\n",
       "      <td>360.00000</td>\n",
       "      <td>1.000000</td>\n",
       "    </tr>\n",
       "    <tr>\n",
       "      <th>50%</th>\n",
       "      <td>3812.500000</td>\n",
       "      <td>1188.500000</td>\n",
       "      <td>128.000000</td>\n",
       "      <td>360.00000</td>\n",
       "      <td>1.000000</td>\n",
       "    </tr>\n",
       "    <tr>\n",
       "      <th>75%</th>\n",
       "      <td>5795.000000</td>\n",
       "      <td>2297.250000</td>\n",
       "      <td>168.000000</td>\n",
       "      <td>360.00000</td>\n",
       "      <td>1.000000</td>\n",
       "    </tr>\n",
       "    <tr>\n",
       "      <th>max</th>\n",
       "      <td>81000.000000</td>\n",
       "      <td>41667.000000</td>\n",
       "      <td>700.000000</td>\n",
       "      <td>480.00000</td>\n",
       "      <td>1.000000</td>\n",
       "    </tr>\n",
       "  </tbody>\n",
       "</table>\n",
       "</div>"
      ],
      "text/plain": [
       "       ApplicantIncome  CoapplicantIncome  LoanAmount  Loan_Amount_Term  \\\n",
       "count       614.000000         614.000000  592.000000         600.00000   \n",
       "mean       5403.459283        1621.245798  146.412162         342.00000   \n",
       "std        6109.041673        2926.248369   85.587325          65.12041   \n",
       "min         150.000000           0.000000    9.000000          12.00000   \n",
       "25%        2877.500000           0.000000  100.000000         360.00000   \n",
       "50%        3812.500000        1188.500000  128.000000         360.00000   \n",
       "75%        5795.000000        2297.250000  168.000000         360.00000   \n",
       "max       81000.000000       41667.000000  700.000000         480.00000   \n",
       "\n",
       "       Credit_History  \n",
       "count      564.000000  \n",
       "mean         0.842199  \n",
       "std          0.364878  \n",
       "min          0.000000  \n",
       "25%          1.000000  \n",
       "50%          1.000000  \n",
       "75%          1.000000  \n",
       "max          1.000000  "
      ]
     },
     "execution_count": 3,
     "metadata": {},
     "output_type": "execute_result"
    }
   ],
   "source": [
    "#statistical information\n",
    "df.describe()"
   ]
  },
  {
   "cell_type": "code",
   "execution_count": 4,
   "id": "164544f5",
   "metadata": {
    "execution": {
     "iopub.execute_input": "2022-10-11T15:25:21.660954Z",
     "iopub.status.busy": "2022-10-11T15:25:21.660489Z",
     "iopub.status.idle": "2022-10-11T15:25:21.678262Z",
     "shell.execute_reply": "2022-10-11T15:25:21.676849Z"
    },
    "papermill": {
     "duration": 0.03622,
     "end_time": "2022-10-11T15:25:21.681599",
     "exception": false,
     "start_time": "2022-10-11T15:25:21.645379",
     "status": "completed"
    },
    "tags": []
   },
   "outputs": [
    {
     "name": "stdout",
     "output_type": "stream",
     "text": [
      "<class 'pandas.core.frame.DataFrame'>\n",
      "RangeIndex: 614 entries, 0 to 613\n",
      "Data columns (total 13 columns):\n",
      " #   Column             Non-Null Count  Dtype  \n",
      "---  ------             --------------  -----  \n",
      " 0   Loan_ID            614 non-null    object \n",
      " 1   Gender             601 non-null    object \n",
      " 2   Married            611 non-null    object \n",
      " 3   Dependents         599 non-null    object \n",
      " 4   Education          614 non-null    object \n",
      " 5   Self_Employed      582 non-null    object \n",
      " 6   ApplicantIncome    614 non-null    int64  \n",
      " 7   CoapplicantIncome  614 non-null    float64\n",
      " 8   LoanAmount         592 non-null    float64\n",
      " 9   Loan_Amount_Term   600 non-null    float64\n",
      " 10  Credit_History     564 non-null    float64\n",
      " 11  Property_Area      614 non-null    object \n",
      " 12  Loan_Status        614 non-null    object \n",
      "dtypes: float64(4), int64(1), object(8)\n",
      "memory usage: 62.5+ KB\n"
     ]
    }
   ],
   "source": [
    "#info about attributes\n",
    "df.info()"
   ]
  },
  {
   "cell_type": "markdown",
   "id": "b37d3edf",
   "metadata": {
    "papermill": {
     "duration": 0.012433,
     "end_time": "2022-10-11T15:25:21.706814",
     "exception": false,
     "start_time": "2022-10-11T15:25:21.694381",
     "status": "completed"
    },
    "tags": []
   },
   "source": [
    "#### From the above info, we can observe that some of the columns have missing values, like Gender, Married, Dependents, Self_Employed, LoanAmount, Loan_Amount_Term, Credit_History."
   ]
  },
  {
   "cell_type": "code",
   "execution_count": 5,
   "id": "3e5cc266",
   "metadata": {
    "execution": {
     "iopub.execute_input": "2022-10-11T15:25:21.734098Z",
     "iopub.status.busy": "2022-10-11T15:25:21.733374Z",
     "iopub.status.idle": "2022-10-11T15:25:21.742523Z",
     "shell.execute_reply": "2022-10-11T15:25:21.741557Z"
    },
    "papermill": {
     "duration": 0.025564,
     "end_time": "2022-10-11T15:25:21.744860",
     "exception": false,
     "start_time": "2022-10-11T15:25:21.719296",
     "status": "completed"
    },
    "tags": []
   },
   "outputs": [
    {
     "data": {
      "text/plain": [
       "Loan_ID               0\n",
       "Gender               13\n",
       "Married               3\n",
       "Dependents           15\n",
       "Education             0\n",
       "Self_Employed        32\n",
       "ApplicantIncome       0\n",
       "CoapplicantIncome     0\n",
       "LoanAmount           22\n",
       "Loan_Amount_Term     14\n",
       "Credit_History       50\n",
       "Property_Area         0\n",
       "Loan_Status           0\n",
       "dtype: int64"
      ]
     },
     "execution_count": 5,
     "metadata": {},
     "output_type": "execute_result"
    }
   ],
   "source": [
    "#lets see how many values are missing in each column.\n",
    "df.isnull().sum()"
   ]
  },
  {
   "cell_type": "code",
   "execution_count": 6,
   "id": "335258bd",
   "metadata": {
    "execution": {
     "iopub.execute_input": "2022-10-11T15:25:21.772728Z",
     "iopub.status.busy": "2022-10-11T15:25:21.772266Z",
     "iopub.status.idle": "2022-10-11T15:25:21.781061Z",
     "shell.execute_reply": "2022-10-11T15:25:21.780008Z"
    },
    "papermill": {
     "duration": 0.025045,
     "end_time": "2022-10-11T15:25:21.783150",
     "exception": false,
     "start_time": "2022-10-11T15:25:21.758105",
     "status": "completed"
    },
    "tags": []
   },
   "outputs": [],
   "source": [
    "#replace numerical attribute missinng value with mean value.\n",
    "df['LoanAmount']=df['LoanAmount'].fillna(np.mean(df['LoanAmount']))\n",
    "df['Loan_Amount_Term']=df['Loan_Amount_Term'].fillna(np.mean(df['Loan_Amount_Term']))\n",
    "df['Credit_History']=df['Credit_History'].fillna(np.mean(df['Credit_History']))"
   ]
  },
  {
   "cell_type": "code",
   "execution_count": 7,
   "id": "de4d3532",
   "metadata": {
    "execution": {
     "iopub.execute_input": "2022-10-11T15:25:21.810563Z",
     "iopub.status.busy": "2022-10-11T15:25:21.809805Z",
     "iopub.status.idle": "2022-10-11T15:25:21.820379Z",
     "shell.execute_reply": "2022-10-11T15:25:21.819216Z"
    },
    "papermill": {
     "duration": 0.027241,
     "end_time": "2022-10-11T15:25:21.823051",
     "exception": false,
     "start_time": "2022-10-11T15:25:21.795810",
     "status": "completed"
    },
    "tags": []
   },
   "outputs": [],
   "source": [
    "#replace categorical attributes missing value with most frequent value i.e mode.\n",
    "df['Gender']=df['Gender'].fillna(df['Gender'].mode()[0])\n",
    "df['Married']=df['Married'].fillna(df['Married'].mode()[0])\n",
    "df['Dependents']=df['Dependents'].fillna(df['Dependents'].mode()[0])\n",
    "df['Self_Employed']=df['Self_Employed'].fillna(df['Self_Employed'].mode()[0])"
   ]
  },
  {
   "cell_type": "code",
   "execution_count": 8,
   "id": "208717f4",
   "metadata": {
    "execution": {
     "iopub.execute_input": "2022-10-11T15:25:21.850126Z",
     "iopub.status.busy": "2022-10-11T15:25:21.849658Z",
     "iopub.status.idle": "2022-10-11T15:25:21.861122Z",
     "shell.execute_reply": "2022-10-11T15:25:21.859911Z"
    },
    "papermill": {
     "duration": 0.028005,
     "end_time": "2022-10-11T15:25:21.863679",
     "exception": false,
     "start_time": "2022-10-11T15:25:21.835674",
     "status": "completed"
    },
    "tags": []
   },
   "outputs": [
    {
     "data": {
      "text/plain": [
       "Loan_ID              0\n",
       "Gender               0\n",
       "Married              0\n",
       "Dependents           0\n",
       "Education            0\n",
       "Self_Employed        0\n",
       "ApplicantIncome      0\n",
       "CoapplicantIncome    0\n",
       "LoanAmount           0\n",
       "Loan_Amount_Term     0\n",
       "Credit_History       0\n",
       "Property_Area        0\n",
       "Loan_Status          0\n",
       "dtype: int64"
      ]
     },
     "execution_count": 8,
     "metadata": {},
     "output_type": "execute_result"
    }
   ],
   "source": [
    "#check if columns still have any null values.\n",
    "df.isnull().sum()"
   ]
  },
  {
   "cell_type": "code",
   "execution_count": 9,
   "id": "71dacd8e",
   "metadata": {
    "execution": {
     "iopub.execute_input": "2022-10-11T15:25:21.891399Z",
     "iopub.status.busy": "2022-10-11T15:25:21.890974Z",
     "iopub.status.idle": "2022-10-11T15:25:21.896961Z",
     "shell.execute_reply": "2022-10-11T15:25:21.895763Z"
    },
    "papermill": {
     "duration": 0.022601,
     "end_time": "2022-10-11T15:25:21.899208",
     "exception": false,
     "start_time": "2022-10-11T15:25:21.876607",
     "status": "completed"
    },
    "tags": []
   },
   "outputs": [],
   "source": [
    "#we can combine 2 columns, applicant income and coapplicant income into one as total_income.\n",
    "df['Total_income'] = df['ApplicantIncome']+df['CoapplicantIncome']"
   ]
  },
  {
   "cell_type": "markdown",
   "id": "e281fddd",
   "metadata": {
    "papermill": {
     "duration": 0.012321,
     "end_time": "2022-10-11T15:25:21.924348",
     "exception": false,
     "start_time": "2022-10-11T15:25:21.912027",
     "status": "completed"
    },
    "tags": []
   },
   "source": [
    "## Visualize the frquency of unique values in categorical valued column."
   ]
  },
  {
   "cell_type": "code",
   "execution_count": 10,
   "id": "4b4c0db6",
   "metadata": {
    "execution": {
     "iopub.execute_input": "2022-10-11T15:25:21.951638Z",
     "iopub.status.busy": "2022-10-11T15:25:21.951225Z",
     "iopub.status.idle": "2022-10-11T15:25:23.373467Z",
     "shell.execute_reply": "2022-10-11T15:25:23.372143Z"
    },
    "papermill": {
     "duration": 1.439204,
     "end_time": "2022-10-11T15:25:23.376335",
     "exception": false,
     "start_time": "2022-10-11T15:25:21.937131",
     "status": "completed"
    },
    "tags": []
   },
   "outputs": [
    {
     "name": "stderr",
     "output_type": "stream",
     "text": [
      "/opt/conda/lib/python3.7/site-packages/seaborn/_decorators.py:43: FutureWarning: Pass the following variable as a keyword arg: x. From version 0.12, the only valid positional argument will be `data`, and passing other arguments without an explicit keyword will result in an error or misinterpretation.\n",
      "  FutureWarning\n"
     ]
    },
    {
     "data": {
      "text/plain": [
       "<AxesSubplot:xlabel='Gender', ylabel='count'>"
      ]
     },
     "execution_count": 10,
     "metadata": {},
     "output_type": "execute_result"
    },
    {
     "data": {
      "image/png": "[encoded data removed]",
      "text/plain": [
       "<Figure size 432x288 with 1 Axes>"
      ]
     },
     "metadata": {
      "needs_background": "light"
     },
     "output_type": "display_data"
    }
   ],
   "source": [
    "import matplotlib.pyplot as plt\n",
    "import seaborn as sns\n",
    "#countplot is generally used for categorical data.\n",
    "sns.countplot(df['Gender'])"
   ]
  },
  {
   "cell_type": "markdown",
   "id": "1a5b1e86",
   "metadata": {
    "papermill": {
     "duration": 0.013579,
     "end_time": "2022-10-11T15:25:23.403574",
     "exception": false,
     "start_time": "2022-10-11T15:25:23.389995",
     "status": "completed"
    },
    "tags": []
   },
   "source": [
    "#### out of 600 loan applicants, 100 are female and 500 are male."
   ]
  },
  {
   "cell_type": "code",
   "execution_count": 11,
   "id": "99b724df",
   "metadata": {
    "execution": {
     "iopub.execute_input": "2022-10-11T15:25:23.432806Z",
     "iopub.status.busy": "2022-10-11T15:25:23.432375Z",
     "iopub.status.idle": "2022-10-11T15:25:23.639785Z",
     "shell.execute_reply": "2022-10-11T15:25:23.638284Z"
    },
    "papermill": {
     "duration": 0.224962,
     "end_time": "2022-10-11T15:25:23.642478",
     "exception": false,
     "start_time": "2022-10-11T15:25:23.417516",
     "status": "completed"
    },
    "tags": []
   },
   "outputs": [
    {
     "name": "stderr",
     "output_type": "stream",
     "text": [
      "/opt/conda/lib/python3.7/site-packages/seaborn/_decorators.py:43: FutureWarning: Pass the following variable as a keyword arg: x. From version 0.12, the only valid positional argument will be `data`, and passing other arguments without an explicit keyword will result in an error or misinterpretation.\n",
      "  FutureWarning\n"
     ]
    },
    {
     "data": {
      "text/plain": [
       "<AxesSubplot:xlabel='Married', ylabel='count'>"
      ]
     },
     "execution_count": 11,
     "metadata": {},
     "output_type": "execute_result"
    },
    {
     "data": {
      "image/png": "[encoded data removed]",
      "text/plain": [
       "<Figure size 432x288 with 1 Axes>"
      ]
     },
     "metadata": {
      "needs_background": "light"
     },
     "output_type": "display_data"
    }
   ],
   "source": [
    "sns.countplot(df['Married'])"
   ]
  },
  {
   "cell_type": "markdown",
   "id": "7bc364f0",
   "metadata": {
    "papermill": {
     "duration": 0.013271,
     "end_time": "2022-10-11T15:25:23.669641",
     "exception": false,
     "start_time": "2022-10-11T15:25:23.656370",
     "status": "completed"
    },
    "tags": []
   },
   "source": [
    "#### out of 600 loan applicants, 400 are married and 200 are unmarried."
   ]
  },
  {
   "cell_type": "code",
   "execution_count": 12,
   "id": "435a2663",
   "metadata": {
    "execution": {
     "iopub.execute_input": "2022-10-11T15:25:23.698899Z",
     "iopub.status.busy": "2022-10-11T15:25:23.698106Z",
     "iopub.status.idle": "2022-10-11T15:25:23.888831Z",
     "shell.execute_reply": "2022-10-11T15:25:23.887616Z"
    },
    "papermill": {
     "duration": 0.208343,
     "end_time": "2022-10-11T15:25:23.891480",
     "exception": false,
     "start_time": "2022-10-11T15:25:23.683137",
     "status": "completed"
    },
    "tags": []
   },
   "outputs": [
    {
     "name": "stderr",
     "output_type": "stream",
     "text": [
      "/opt/conda/lib/python3.7/site-packages/seaborn/_decorators.py:43: FutureWarning: Pass the following variable as a keyword arg: x. From version 0.12, the only valid positional argument will be `data`, and passing other arguments without an explicit keyword will result in an error or misinterpretation.\n",
      "  FutureWarning\n"
     ]
    },
    {
     "data": {
      "text/plain": [
       "<AxesSubplot:xlabel='Education', ylabel='count'>"
      ]
     },
     "execution_count": 12,
     "metadata": {},
     "output_type": "execute_result"
    },
    {
     "data": {
      "image/png": "[encoded data removed]",
      "text/plain": [
       "<Figure size 432x288 with 1 Axes>"
      ]
     },
     "metadata": {
      "needs_background": "light"
     },
     "output_type": "display_data"
    }
   ],
   "source": [
    "#? what is dependents and self.employed.\n",
    "sns.countplot(df['Education'])"
   ]
  },
  {
   "cell_type": "markdown",
   "id": "03885f87",
   "metadata": {
    "papermill": {
     "duration": 0.013659,
     "end_time": "2022-10-11T15:25:23.919144",
     "exception": false,
     "start_time": "2022-10-11T15:25:23.905485",
     "status": "completed"
    },
    "tags": []
   },
   "source": [
    "#### out of 600 loan applicants, 150 are not graduated while 450 are graduated."
   ]
  },
  {
   "cell_type": "code",
   "execution_count": 13,
   "id": "5b0e94ad",
   "metadata": {
    "execution": {
     "iopub.execute_input": "2022-10-11T15:25:23.948360Z",
     "iopub.status.busy": "2022-10-11T15:25:23.947926Z",
     "iopub.status.idle": "2022-10-11T15:25:24.138961Z",
     "shell.execute_reply": "2022-10-11T15:25:24.137798Z"
    },
    "papermill": {
     "duration": 0.208652,
     "end_time": "2022-10-11T15:25:24.141584",
     "exception": false,
     "start_time": "2022-10-11T15:25:23.932932",
     "status": "completed"
    },
    "tags": []
   },
   "outputs": [
    {
     "name": "stderr",
     "output_type": "stream",
     "text": [
      "/opt/conda/lib/python3.7/site-packages/seaborn/_decorators.py:43: FutureWarning: Pass the following variable as a keyword arg: x. From version 0.12, the only valid positional argument will be `data`, and passing other arguments without an explicit keyword will result in an error or misinterpretation.\n",
      "  FutureWarning\n"
     ]
    },
    {
     "data": {
      "text/plain": [
       "<AxesSubplot:xlabel='Self_Employed', ylabel='count'>"
      ]
     },
     "execution_count": 13,
     "metadata": {},
     "output_type": "execute_result"
    },
    {
     "data": {
      "image/png": "[encoded data removed]",
      "text/plain": [
       "<Figure size 432x288 with 1 Axes>"
      ]
     },
     "metadata": {
      "needs_background": "light"
     },
     "output_type": "display_data"
    }
   ],
   "source": [
    "sns.countplot(df['Self_Employed'])"
   ]
  },
  {
   "cell_type": "code",
   "execution_count": 14,
   "id": "b9c3688f",
   "metadata": {
    "execution": {
     "iopub.execute_input": "2022-10-11T15:25:24.172456Z",
     "iopub.status.busy": "2022-10-11T15:25:24.172025Z",
     "iopub.status.idle": "2022-10-11T15:25:24.374794Z",
     "shell.execute_reply": "2022-10-11T15:25:24.373638Z"
    },
    "papermill": {
     "duration": 0.221145,
     "end_time": "2022-10-11T15:25:24.377218",
     "exception": false,
     "start_time": "2022-10-11T15:25:24.156073",
     "status": "completed"
    },
    "tags": []
   },
   "outputs": [
    {
     "name": "stderr",
     "output_type": "stream",
     "text": [
      "/opt/conda/lib/python3.7/site-packages/seaborn/_decorators.py:43: FutureWarning: Pass the following variable as a keyword arg: x. From version 0.12, the only valid positional argument will be `data`, and passing other arguments without an explicit keyword will result in an error or misinterpretation.\n",
      "  FutureWarning\n"
     ]
    },
    {
     "data": {
      "text/plain": [
       "<AxesSubplot:xlabel='Property_Area', ylabel='count'>"
      ]
     },
     "execution_count": 14,
     "metadata": {},
     "output_type": "execute_result"
    },
    {
     "data": {
      "image/png": "[encoded data removed]",
      "text/plain": [
       "<Figure size 432x288 with 1 Axes>"
      ]
     },
     "metadata": {
      "needs_background": "light"
     },
     "output_type": "display_data"
    }
   ],
   "source": [
    "sns.countplot(df['Property_Area'])"
   ]
  },
  {
   "cell_type": "code",
   "execution_count": 15,
   "id": "e1c20f7f",
   "metadata": {
    "execution": {
     "iopub.execute_input": "2022-10-11T15:25:24.409188Z",
     "iopub.status.busy": "2022-10-11T15:25:24.408806Z",
     "iopub.status.idle": "2022-10-11T15:25:24.556646Z",
     "shell.execute_reply": "2022-10-11T15:25:24.555759Z"
    },
    "papermill": {
     "duration": 0.168557,
     "end_time": "2022-10-11T15:25:24.560607",
     "exception": false,
     "start_time": "2022-10-11T15:25:24.392050",
     "status": "completed"
    },
    "tags": []
   },
   "outputs": [
    {
     "name": "stderr",
     "output_type": "stream",
     "text": [
      "/opt/conda/lib/python3.7/site-packages/seaborn/_decorators.py:43: FutureWarning: Pass the following variable as a keyword arg: x. From version 0.12, the only valid positional argument will be `data`, and passing other arguments without an explicit keyword will result in an error or misinterpretation.\n",
      "  FutureWarning\n"
     ]
    },
    {
     "data": {
      "text/plain": [
       "<AxesSubplot:xlabel='Dependents', ylabel='count'>"
      ]
     },
     "execution_count": 15,
     "metadata": {},
     "output_type": "execute_result"
    },
    {
     "data": {
      "image/png": "[encoded data removed]",
      "text/plain": [
       "<Figure size 432x288 with 1 Axes>"
      ]
     },
     "metadata": {
      "needs_background": "light"
     },
     "output_type": "display_data"
    }
   ],
   "source": [
    "sns.countplot(df['Dependents'])"
   ]
  },
  {
   "cell_type": "code",
   "execution_count": 16,
   "id": "06106b77",
   "metadata": {
    "execution": {
     "iopub.execute_input": "2022-10-11T15:25:24.605134Z",
     "iopub.status.busy": "2022-10-11T15:25:24.604233Z",
     "iopub.status.idle": "2022-10-11T15:25:24.802798Z",
     "shell.execute_reply": "2022-10-11T15:25:24.801544Z"
    },
    "papermill": {
     "duration": 0.218368,
     "end_time": "2022-10-11T15:25:24.805626",
     "exception": false,
     "start_time": "2022-10-11T15:25:24.587258",
     "status": "completed"
    },
    "tags": []
   },
   "outputs": [
    {
     "name": "stderr",
     "output_type": "stream",
     "text": [
      "/opt/conda/lib/python3.7/site-packages/seaborn/_decorators.py:43: FutureWarning: Pass the following variable as a keyword arg: x. From version 0.12, the only valid positional argument will be `data`, and passing other arguments without an explicit keyword will result in an error or misinterpretation.\n",
      "  FutureWarning\n"
     ]
    },
    {
     "data": {
      "text/plain": [
       "<AxesSubplot:xlabel='Loan_Status', ylabel='count'>"
      ]
     },
     "execution_count": 16,
     "metadata": {},
     "output_type": "execute_result"
    },
    {
     "data": {
      "image/png": "[encoded data removed]",
      "text/plain": [
       "<Figure size 432x288 with 1 Axes>"
      ]
     },
     "metadata": {
      "needs_background": "light"
     },
     "output_type": "display_data"
    }
   ],
   "source": [
    "sns.countplot(df['Loan_Status'])"
   ]
  },
  {
   "cell_type": "markdown",
   "id": "106d457c",
   "metadata": {
    "papermill": {
     "duration": 0.015325,
     "end_time": "2022-10-11T15:25:24.836916",
     "exception": false,
     "start_time": "2022-10-11T15:25:24.821591",
     "status": "completed"
    },
    "tags": []
   },
   "source": [
    "#### This graph tells us , that out of 600 people, almost 400 have paid their loan, while only alomst 200 have not paid their loan."
   ]
  },
  {
   "cell_type": "markdown",
   "id": "e970769f",
   "metadata": {
    "papermill": {
     "duration": 0.015744,
     "end_time": "2022-10-11T15:25:24.868820",
     "exception": false,
     "start_time": "2022-10-11T15:25:24.853076",
     "status": "completed"
    },
    "tags": []
   },
   "source": [
    "#### Loan Applicants are almost equally from urban area, rural area and semiurban area."
   ]
  },
  {
   "cell_type": "markdown",
   "id": "635682c8",
   "metadata": {
    "papermill": {
     "duration": 0.015577,
     "end_time": "2022-10-11T15:25:24.900390",
     "exception": false,
     "start_time": "2022-10-11T15:25:24.884813",
     "status": "completed"
    },
    "tags": []
   },
   "source": [
    "#### out of 600 loan applicants, 70 are self-employed while 530 are employed."
   ]
  },
  {
   "cell_type": "markdown",
   "id": "690ecc9c",
   "metadata": {
    "papermill": {
     "duration": 0.015437,
     "end_time": "2022-10-11T15:25:24.931981",
     "exception": false,
     "start_time": "2022-10-11T15:25:24.916544",
     "status": "completed"
    },
    "tags": []
   },
   "source": [
    "## Visualize the numerical data."
   ]
  },
  {
   "cell_type": "code",
   "execution_count": 17,
   "id": "b28b4188",
   "metadata": {
    "execution": {
     "iopub.execute_input": "2022-10-11T15:25:24.965924Z",
     "iopub.status.busy": "2022-10-11T15:25:24.965448Z",
     "iopub.status.idle": "2022-10-11T15:25:25.296519Z",
     "shell.execute_reply": "2022-10-11T15:25:25.295418Z"
    },
    "papermill": {
     "duration": 0.350901,
     "end_time": "2022-10-11T15:25:25.299142",
     "exception": false,
     "start_time": "2022-10-11T15:25:24.948241",
     "status": "completed"
    },
    "tags": []
   },
   "outputs": [
    {
     "name": "stderr",
     "output_type": "stream",
     "text": [
      "/opt/conda/lib/python3.7/site-packages/seaborn/distributions.py:2619: FutureWarning: `distplot` is a deprecated function and will be removed in a future version. Please adapt your code to use either `displot` (a figure-level function with similar flexibility) or `histplot` (an axes-level function for histograms).\n",
      "  warnings.warn(msg, FutureWarning)\n"
     ]
    },
    {
     "data": {
      "text/plain": [
       "<AxesSubplot:xlabel='ApplicantIncome', ylabel='Density'>"
      ]
     },
     "execution_count": 17,
     "metadata": {},
     "output_type": "execute_result"
    },
    {
     "data": {
      "image/png": "[encoded data removed]",
      "text/plain": [
       "<Figure size 432x288 with 1 Axes>"
      ]
     },
     "metadata": {
      "needs_background": "light"
     },
     "output_type": "display_data"
    }
   ],
   "source": [
    "#use distplot for distribution of the data\n",
    "sns.distplot(df['ApplicantIncome'])"
   ]
  },
  {
   "cell_type": "markdown",
   "id": "c30ef18b",
   "metadata": {
    "papermill": {
     "duration": 0.015763,
     "end_time": "2022-10-11T15:25:25.330929",
     "exception": false,
     "start_time": "2022-10-11T15:25:25.315166",
     "status": "completed"
    },
    "tags": []
   },
   "source": [
    "#### The graph above seems skewed towards left side, so we need to distribute equally along the range to work well for the model, so we will apply log transformation on the data to normalize the data."
   ]
  },
  {
   "cell_type": "code",
   "execution_count": 18,
   "id": "93dd54ea",
   "metadata": {
    "execution": {
     "iopub.execute_input": "2022-10-11T15:25:25.364598Z",
     "iopub.status.busy": "2022-10-11T15:25:25.364215Z",
     "iopub.status.idle": "2022-10-11T15:25:25.681529Z",
     "shell.execute_reply": "2022-10-11T15:25:25.680619Z"
    },
    "papermill": {
     "duration": 0.33721,
     "end_time": "2022-10-11T15:25:25.684032",
     "exception": false,
     "start_time": "2022-10-11T15:25:25.346822",
     "status": "completed"
    },
    "tags": []
   },
   "outputs": [
    {
     "name": "stderr",
     "output_type": "stream",
     "text": [
      "/opt/conda/lib/python3.7/site-packages/seaborn/distributions.py:2619: FutureWarning: `distplot` is a deprecated function and will be removed in a future version. Please adapt your code to use either `displot` (a figure-level function with similar flexibility) or `histplot` (an axes-level function for histograms).\n",
      "  warnings.warn(msg, FutureWarning)\n"
     ]
    },
    {
     "data": {
      "text/plain": [
       "<AxesSubplot:xlabel='CoapplicantIncome', ylabel='Density'>"
      ]
     },
     "execution_count": 18,
     "metadata": {},
     "output_type": "execute_result"
    },
    {
     "data": {
      "image/png": "[encoded data removed]",
      "text/plain": [
       "<Figure size 432x288 with 1 Axes>"
      ]
     },
     "metadata": {
      "needs_background": "light"
     },
     "output_type": "display_data"
    }
   ],
   "source": [
    "sns.distplot(df['CoapplicantIncome'])"
   ]
  },
  {
   "cell_type": "code",
   "execution_count": 19,
   "id": "edd128b4",
   "metadata": {
    "execution": {
     "iopub.execute_input": "2022-10-11T15:25:25.720434Z",
     "iopub.status.busy": "2022-10-11T15:25:25.719821Z",
     "iopub.status.idle": "2022-10-11T15:25:26.029071Z",
     "shell.execute_reply": "2022-10-11T15:25:26.027491Z"
    },
    "papermill": {
     "duration": 0.331138,
     "end_time": "2022-10-11T15:25:26.031825",
     "exception": false,
     "start_time": "2022-10-11T15:25:25.700687",
     "status": "completed"
    },
    "tags": []
   },
   "outputs": [
    {
     "name": "stderr",
     "output_type": "stream",
     "text": [
      "/opt/conda/lib/python3.7/site-packages/seaborn/distributions.py:2619: FutureWarning: `distplot` is a deprecated function and will be removed in a future version. Please adapt your code to use either `displot` (a figure-level function with similar flexibility) or `histplot` (an axes-level function for histograms).\n",
      "  warnings.warn(msg, FutureWarning)\n"
     ]
    },
    {
     "data": {
      "text/plain": [
       "<AxesSubplot:xlabel='LoanAmount', ylabel='Density'>"
      ]
     },
     "execution_count": 19,
     "metadata": {},
     "output_type": "execute_result"
    },
    {
     "data": {
      "image/png": "[encoded data removed]",
      "text/plain": [
       "<Figure size 432x288 with 1 Axes>"
      ]
     },
     "metadata": {
      "needs_background": "light"
     },
     "output_type": "display_data"
    }
   ],
   "source": [
    "#use distplot for distribution of the data\n",
    "sns.distplot(df['LoanAmount'])"
   ]
  },
  {
   "cell_type": "code",
   "execution_count": 20,
   "id": "1971e950",
   "metadata": {
    "execution": {
     "iopub.execute_input": "2022-10-11T15:25:26.069391Z",
     "iopub.status.busy": "2022-10-11T15:25:26.068348Z",
     "iopub.status.idle": "2022-10-11T15:25:26.367919Z",
     "shell.execute_reply": "2022-10-11T15:25:26.366629Z"
    },
    "papermill": {
     "duration": 0.321083,
     "end_time": "2022-10-11T15:25:26.370626",
     "exception": false,
     "start_time": "2022-10-11T15:25:26.049543",
     "status": "completed"
    },
    "tags": []
   },
   "outputs": [
    {
     "name": "stderr",
     "output_type": "stream",
     "text": [
      "/opt/conda/lib/python3.7/site-packages/seaborn/distributions.py:2619: FutureWarning: `distplot` is a deprecated function and will be removed in a future version. Please adapt your code to use either `displot` (a figure-level function with similar flexibility) or `histplot` (an axes-level function for histograms).\n",
      "  warnings.warn(msg, FutureWarning)\n"
     ]
    },
    {
     "data": {
      "text/plain": [
       "<AxesSubplot:xlabel='Loan_Amount_Term', ylabel='Density'>"
      ]
     },
     "execution_count": 20,
     "metadata": {},
     "output_type": "execute_result"
    },
    {
     "data": {
      "image/png": "[encoded data removed]",
      "text/plain": [
       "<Figure size 432x288 with 1 Axes>"
      ]
     },
     "metadata": {
      "needs_background": "light"
     },
     "output_type": "display_data"
    }
   ],
   "source": [
    "#use distplot for distribution of the data\n",
    "sns.distplot(df['Loan_Amount_Term'])"
   ]
  },
  {
   "cell_type": "code",
   "execution_count": 21,
   "id": "9a738496",
   "metadata": {
    "execution": {
     "iopub.execute_input": "2022-10-11T15:25:26.408471Z",
     "iopub.status.busy": "2022-10-11T15:25:26.408009Z",
     "iopub.status.idle": "2022-10-11T15:25:26.705738Z",
     "shell.execute_reply": "2022-10-11T15:25:26.704487Z"
    },
    "papermill": {
     "duration": 0.32026,
     "end_time": "2022-10-11T15:25:26.708583",
     "exception": false,
     "start_time": "2022-10-11T15:25:26.388323",
     "status": "completed"
    },
    "tags": []
   },
   "outputs": [
    {
     "name": "stderr",
     "output_type": "stream",
     "text": [
      "/opt/conda/lib/python3.7/site-packages/seaborn/distributions.py:2619: FutureWarning: `distplot` is a deprecated function and will be removed in a future version. Please adapt your code to use either `displot` (a figure-level function with similar flexibility) or `histplot` (an axes-level function for histograms).\n",
      "  warnings.warn(msg, FutureWarning)\n"
     ]
    },
    {
     "data": {
      "text/plain": [
       "<AxesSubplot:xlabel='Credit_History', ylabel='Density'>"
      ]
     },
     "execution_count": 21,
     "metadata": {},
     "output_type": "execute_result"
    },
    {
     "data": {
      "image/png": "[encoded data removed]",
      "text/plain": [
       "<Figure size 432x288 with 1 Axes>"
      ]
     },
     "metadata": {
      "needs_background": "light"
     },
     "output_type": "display_data"
    }
   ],
   "source": [
    "#use distplot for distribution of the data\n",
    "sns.distplot(df['Credit_History'])"
   ]
  },
  {
   "cell_type": "markdown",
   "id": "65150597",
   "metadata": {
    "execution": {
     "iopub.execute_input": "2022-10-11T08:16:15.720408Z",
     "iopub.status.busy": "2022-10-11T08:16:15.720001Z",
     "iopub.status.idle": "2022-10-11T08:16:15.725683Z",
     "shell.execute_reply": "2022-10-11T08:16:15.724566Z",
     "shell.execute_reply.started": "2022-10-11T08:16:15.720374Z"
    },
    "papermill": {
     "duration": 0.018981,
     "end_time": "2022-10-11T15:25:26.745393",
     "exception": false,
     "start_time": "2022-10-11T15:25:26.726412",
     "status": "completed"
    },
    "tags": []
   },
   "source": [
    "#### from the above distribution graphs, none seems equally distributed, everyone is somewhat skewed, so we need to normalize the data with log data."
   ]
  },
  {
   "cell_type": "markdown",
   "id": "1c1dc974",
   "metadata": {
    "papermill": {
     "duration": 0.017577,
     "end_time": "2022-10-11T15:25:26.782231",
     "exception": false,
     "start_time": "2022-10-11T15:25:26.764654",
     "status": "completed"
    },
    "tags": []
   },
   "source": [
    "#### Instead, we will make additional columns i.e call log columns of correspondng columns to be normalized."
   ]
  },
  {
   "cell_type": "code",
   "execution_count": 22,
   "id": "ed985e73",
   "metadata": {
    "execution": {
     "iopub.execute_input": "2022-10-11T15:25:26.820526Z",
     "iopub.status.busy": "2022-10-11T15:25:26.819156Z",
     "iopub.status.idle": "2022-10-11T15:25:27.111090Z",
     "shell.execute_reply": "2022-10-11T15:25:27.109699Z"
    },
    "papermill": {
     "duration": 0.313992,
     "end_time": "2022-10-11T15:25:27.114051",
     "exception": false,
     "start_time": "2022-10-11T15:25:26.800059",
     "status": "completed"
    },
    "tags": []
   },
   "outputs": [
    {
     "name": "stderr",
     "output_type": "stream",
     "text": [
      "/opt/conda/lib/python3.7/site-packages/seaborn/distributions.py:2619: FutureWarning: `distplot` is a deprecated function and will be removed in a future version. Please adapt your code to use either `displot` (a figure-level function with similar flexibility) or `histplot` (an axes-level function for histograms).\n",
      "  warnings.warn(msg, FutureWarning)\n"
     ]
    },
    {
     "data": {
      "text/plain": [
       "<AxesSubplot:xlabel='Total_income', ylabel='Density'>"
      ]
     },
     "execution_count": 22,
     "metadata": {},
     "output_type": "execute_result"
    },
    {
     "data": {
      "image/png": "[encoded data removed]",
      "text/plain": [
       "<Figure size 432x288 with 1 Axes>"
      ]
     },
     "metadata": {
      "needs_background": "light"
     },
     "output_type": "display_data"
    }
   ],
   "source": [
    "#lets check distribution of data in newly added  column Total_Income\n",
    "df['Total_income'] = np.log(df['Total_income'])\n",
    "sns.distplot(df['Total_income'])"
   ]
  },
  {
   "cell_type": "markdown",
   "id": "2b98070a",
   "metadata": {
    "papermill": {
     "duration": 0.018532,
     "end_time": "2022-10-11T15:25:27.151067",
     "exception": false,
     "start_time": "2022-10-11T15:25:27.132535",
     "status": "completed"
    },
    "tags": []
   },
   "source": [
    "#### Now total_income is evenly distributed."
   ]
  },
  {
   "cell_type": "code",
   "execution_count": 23,
   "id": "ae7d63c8",
   "metadata": {
    "execution": {
     "iopub.execute_input": "2022-10-11T15:25:27.189843Z",
     "iopub.status.busy": "2022-10-11T15:25:27.189403Z",
     "iopub.status.idle": "2022-10-11T15:25:27.201538Z",
     "shell.execute_reply": "2022-10-11T15:25:27.200005Z"
    },
    "papermill": {
     "duration": 0.035232,
     "end_time": "2022-10-11T15:25:27.204925",
     "exception": false,
     "start_time": "2022-10-11T15:25:27.169693",
     "status": "completed"
    },
    "tags": []
   },
   "outputs": [
    {
     "name": "stderr",
     "output_type": "stream",
     "text": [
      "/opt/conda/lib/python3.7/site-packages/pandas/core/arraylike.py:364: RuntimeWarning: divide by zero encountered in log\n",
      "  result = getattr(ufunc, method)(*inputs, **kwargs)\n"
     ]
    }
   ],
   "source": [
    "df['ApplicantIncome_log']=np.log(df['ApplicantIncome'])\n",
    "df['CoapplicantIncome_log']=np.log(df['CoapplicantIncome'])\n",
    "df['LoanAmount_log']=np.log(df['LoanAmount'])\n",
    "df['Loan_Amount_Term_log']=np.log(df['Loan_Amount_Term'])"
   ]
  },
  {
   "cell_type": "code",
   "execution_count": 24,
   "id": "73e5e5ea",
   "metadata": {
    "execution": {
     "iopub.execute_input": "2022-10-11T15:25:27.244664Z",
     "iopub.status.busy": "2022-10-11T15:25:27.244254Z",
     "iopub.status.idle": "2022-10-11T15:25:27.268203Z",
     "shell.execute_reply": "2022-10-11T15:25:27.266939Z"
    },
    "papermill": {
     "duration": 0.046217,
     "end_time": "2022-10-11T15:25:27.270630",
     "exception": false,
     "start_time": "2022-10-11T15:25:27.224413",
     "status": "completed"
    },
    "tags": []
   },
   "outputs": [
    {
     "data": {
      "text/html": [
       "<div>\n",
       "<style scoped>\n",
       "    .dataframe tbody tr th:only-of-type {\n",
       "        vertical-align: middle;\n",
       "    }\n",
       "\n",
       "    .dataframe tbody tr th {\n",
       "        vertical-align: top;\n",
       "    }\n",
       "\n",
       "    .dataframe thead th {\n",
       "        text-align: right;\n",
       "    }\n",
       "</style>\n",
       "<table border=\"1\" class=\"dataframe\">\n",
       "  <thead>\n",
       "    <tr style=\"text-align: right;\">\n",
       "      <th></th>\n",
       "      <th>Loan_ID</th>\n",
       "      <th>Gender</th>\n",
       "      <th>Married</th>\n",
       "      <th>Dependents</th>\n",
       "      <th>Education</th>\n",
       "      <th>Self_Employed</th>\n",
       "      <th>ApplicantIncome</th>\n",
       "      <th>CoapplicantIncome</th>\n",
       "      <th>LoanAmount</th>\n",
       "      <th>Loan_Amount_Term</th>\n",
       "      <th>Credit_History</th>\n",
       "      <th>Property_Area</th>\n",
       "      <th>Loan_Status</th>\n",
       "      <th>Total_income</th>\n",
       "      <th>ApplicantIncome_log</th>\n",
       "      <th>CoapplicantIncome_log</th>\n",
       "      <th>LoanAmount_log</th>\n",
       "      <th>Loan_Amount_Term_log</th>\n",
       "    </tr>\n",
       "  </thead>\n",
       "  <tbody>\n",
       "    <tr>\n",
       "      <th>0</th>\n",
       "      <td>LP001002</td>\n",
       "      <td>Male</td>\n",
       "      <td>No</td>\n",
       "      <td>0</td>\n",
       "      <td>Graduate</td>\n",
       "      <td>No</td>\n",
       "      <td>5849</td>\n",
       "      <td>0.0</td>\n",
       "      <td>146.412162</td>\n",
       "      <td>360.0</td>\n",
       "      <td>1.0</td>\n",
       "      <td>Urban</td>\n",
       "      <td>Y</td>\n",
       "      <td>8.674026</td>\n",
       "      <td>8.674026</td>\n",
       "      <td>-inf</td>\n",
       "      <td>4.986426</td>\n",
       "      <td>5.886104</td>\n",
       "    </tr>\n",
       "    <tr>\n",
       "      <th>1</th>\n",
       "      <td>LP001003</td>\n",
       "      <td>Male</td>\n",
       "      <td>Yes</td>\n",
       "      <td>1</td>\n",
       "      <td>Graduate</td>\n",
       "      <td>No</td>\n",
       "      <td>4583</td>\n",
       "      <td>1508.0</td>\n",
       "      <td>128.000000</td>\n",
       "      <td>360.0</td>\n",
       "      <td>1.0</td>\n",
       "      <td>Rural</td>\n",
       "      <td>N</td>\n",
       "      <td>8.714568</td>\n",
       "      <td>8.430109</td>\n",
       "      <td>7.318540</td>\n",
       "      <td>4.852030</td>\n",
       "      <td>5.886104</td>\n",
       "    </tr>\n",
       "    <tr>\n",
       "      <th>2</th>\n",
       "      <td>LP001005</td>\n",
       "      <td>Male</td>\n",
       "      <td>Yes</td>\n",
       "      <td>0</td>\n",
       "      <td>Graduate</td>\n",
       "      <td>Yes</td>\n",
       "      <td>3000</td>\n",
       "      <td>0.0</td>\n",
       "      <td>66.000000</td>\n",
       "      <td>360.0</td>\n",
       "      <td>1.0</td>\n",
       "      <td>Urban</td>\n",
       "      <td>Y</td>\n",
       "      <td>8.006368</td>\n",
       "      <td>8.006368</td>\n",
       "      <td>-inf</td>\n",
       "      <td>4.189655</td>\n",
       "      <td>5.886104</td>\n",
       "    </tr>\n",
       "    <tr>\n",
       "      <th>3</th>\n",
       "      <td>LP001006</td>\n",
       "      <td>Male</td>\n",
       "      <td>Yes</td>\n",
       "      <td>0</td>\n",
       "      <td>Not Graduate</td>\n",
       "      <td>No</td>\n",
       "      <td>2583</td>\n",
       "      <td>2358.0</td>\n",
       "      <td>120.000000</td>\n",
       "      <td>360.0</td>\n",
       "      <td>1.0</td>\n",
       "      <td>Urban</td>\n",
       "      <td>Y</td>\n",
       "      <td>8.505323</td>\n",
       "      <td>7.856707</td>\n",
       "      <td>7.765569</td>\n",
       "      <td>4.787492</td>\n",
       "      <td>5.886104</td>\n",
       "    </tr>\n",
       "    <tr>\n",
       "      <th>4</th>\n",
       "      <td>LP001008</td>\n",
       "      <td>Male</td>\n",
       "      <td>No</td>\n",
       "      <td>0</td>\n",
       "      <td>Graduate</td>\n",
       "      <td>No</td>\n",
       "      <td>6000</td>\n",
       "      <td>0.0</td>\n",
       "      <td>141.000000</td>\n",
       "      <td>360.0</td>\n",
       "      <td>1.0</td>\n",
       "      <td>Urban</td>\n",
       "      <td>Y</td>\n",
       "      <td>8.699515</td>\n",
       "      <td>8.699515</td>\n",
       "      <td>-inf</td>\n",
       "      <td>4.948760</td>\n",
       "      <td>5.886104</td>\n",
       "    </tr>\n",
       "  </tbody>\n",
       "</table>\n",
       "</div>"
      ],
      "text/plain": [
       "    Loan_ID Gender Married Dependents     Education Self_Employed  \\\n",
       "0  LP001002   Male      No          0      Graduate            No   \n",
       "1  LP001003   Male     Yes          1      Graduate            No   \n",
       "2  LP001005   Male     Yes          0      Graduate           Yes   \n",
       "3  LP001006   Male     Yes          0  Not Graduate            No   \n",
       "4  LP001008   Male      No          0      Graduate            No   \n",
       "\n",
       "   ApplicantIncome  CoapplicantIncome  LoanAmount  Loan_Amount_Term  \\\n",
       "0             5849                0.0  146.412162             360.0   \n",
       "1             4583             1508.0  128.000000             360.0   \n",
       "2             3000                0.0   66.000000             360.0   \n",
       "3             2583             2358.0  120.000000             360.0   \n",
       "4             6000                0.0  141.000000             360.0   \n",
       "\n",
       "   Credit_History Property_Area Loan_Status  Total_income  \\\n",
       "0             1.0         Urban           Y      8.674026   \n",
       "1             1.0         Rural           N      8.714568   \n",
       "2             1.0         Urban           Y      8.006368   \n",
       "3             1.0         Urban           Y      8.505323   \n",
       "4             1.0         Urban           Y      8.699515   \n",
       "\n",
       "   ApplicantIncome_log  CoapplicantIncome_log  LoanAmount_log  \\\n",
       "0             8.674026                   -inf        4.986426   \n",
       "1             8.430109               7.318540        4.852030   \n",
       "2             8.006368                   -inf        4.189655   \n",
       "3             7.856707               7.765569        4.787492   \n",
       "4             8.699515                   -inf        4.948760   \n",
       "\n",
       "   Loan_Amount_Term_log  \n",
       "0              5.886104  \n",
       "1              5.886104  \n",
       "2              5.886104  \n",
       "3              5.886104  \n",
       "4              5.886104  "
      ]
     },
     "execution_count": 24,
     "metadata": {},
     "output_type": "execute_result"
    }
   ],
   "source": [
    "df.head()"
   ]
  },
  {
   "cell_type": "markdown",
   "id": "863ced83",
   "metadata": {
    "papermill": {
     "duration": 0.01872,
     "end_time": "2022-10-11T15:25:27.309092",
     "exception": false,
     "start_time": "2022-10-11T15:25:27.290372",
     "status": "completed"
    },
    "tags": []
   },
   "source": [
    "## Correlation Matrix"
   ]
  },
  {
   "cell_type": "code",
   "execution_count": 25,
   "id": "7a70ee98",
   "metadata": {
    "execution": {
     "iopub.execute_input": "2022-10-11T15:25:27.348673Z",
     "iopub.status.busy": "2022-10-11T15:25:27.348232Z",
     "iopub.status.idle": "2022-10-11T15:25:28.415195Z",
     "shell.execute_reply": "2022-10-11T15:25:28.414047Z"
    },
    "papermill": {
     "duration": 1.090814,
     "end_time": "2022-10-11T15:25:28.418722",
     "exception": false,
     "start_time": "2022-10-11T15:25:27.327908",
     "status": "completed"
    },
    "tags": []
   },
   "outputs": [
    {
     "data": {
      "text/plain": [
       "<AxesSubplot:>"
      ]
     },
     "execution_count": 25,
     "metadata": {},
     "output_type": "execute_result"
    },
    {
     "data": {
      "image/png": "[encoded data removed]",
      "text/plain": [
       "<Figure size 1080x720 with 2 Axes>"
      ]
     },
     "metadata": {
      "needs_background": "light"
     },
     "output_type": "display_data"
    }
   ],
   "source": [
    "corr = df.corr()\n",
    "plt.figure(figsize=(15,10))\n",
    "sns.heatmap(corr,annot=True)"
   ]
  },
  {
   "cell_type": "markdown",
   "id": "1934aa6d",
   "metadata": {
    "papermill": {
     "duration": 0.020643,
     "end_time": "2022-10-11T15:25:28.460505",
     "exception": false,
     "start_time": "2022-10-11T15:25:28.439862",
     "status": "completed"
    },
    "tags": []
   },
   "source": [
    "#### we will keep the log terms and drop all the corresponding columns."
   ]
  },
  {
   "cell_type": "code",
   "execution_count": 26,
   "id": "9c0a1be2",
   "metadata": {
    "execution": {
     "iopub.execute_input": "2022-10-11T15:25:28.502606Z",
     "iopub.status.busy": "2022-10-11T15:25:28.502213Z",
     "iopub.status.idle": "2022-10-11T15:25:28.524610Z",
     "shell.execute_reply": "2022-10-11T15:25:28.523527Z"
    },
    "papermill": {
     "duration": 0.046681,
     "end_time": "2022-10-11T15:25:28.527374",
     "exception": false,
     "start_time": "2022-10-11T15:25:28.480693",
     "status": "completed"
    },
    "tags": []
   },
   "outputs": [
    {
     "data": {
      "text/html": [
       "<div>\n",
       "<style scoped>\n",
       "    .dataframe tbody tr th:only-of-type {\n",
       "        vertical-align: middle;\n",
       "    }\n",
       "\n",
       "    .dataframe tbody tr th {\n",
       "        vertical-align: top;\n",
       "    }\n",
       "\n",
       "    .dataframe thead th {\n",
       "        text-align: right;\n",
       "    }\n",
       "</style>\n",
       "<table border=\"1\" class=\"dataframe\">\n",
       "  <thead>\n",
       "    <tr style=\"text-align: right;\">\n",
       "      <th></th>\n",
       "      <th>Gender</th>\n",
       "      <th>Married</th>\n",
       "      <th>Dependents</th>\n",
       "      <th>Education</th>\n",
       "      <th>Self_Employed</th>\n",
       "      <th>Credit_History</th>\n",
       "      <th>Property_Area</th>\n",
       "      <th>Loan_Status</th>\n",
       "      <th>Total_income</th>\n",
       "      <th>ApplicantIncome_log</th>\n",
       "      <th>LoanAmount_log</th>\n",
       "      <th>Loan_Amount_Term_log</th>\n",
       "    </tr>\n",
       "  </thead>\n",
       "  <tbody>\n",
       "    <tr>\n",
       "      <th>0</th>\n",
       "      <td>Male</td>\n",
       "      <td>No</td>\n",
       "      <td>0</td>\n",
       "      <td>Graduate</td>\n",
       "      <td>No</td>\n",
       "      <td>1.0</td>\n",
       "      <td>Urban</td>\n",
       "      <td>Y</td>\n",
       "      <td>8.674026</td>\n",
       "      <td>8.674026</td>\n",
       "      <td>4.986426</td>\n",
       "      <td>5.886104</td>\n",
       "    </tr>\n",
       "    <tr>\n",
       "      <th>1</th>\n",
       "      <td>Male</td>\n",
       "      <td>Yes</td>\n",
       "      <td>1</td>\n",
       "      <td>Graduate</td>\n",
       "      <td>No</td>\n",
       "      <td>1.0</td>\n",
       "      <td>Rural</td>\n",
       "      <td>N</td>\n",
       "      <td>8.714568</td>\n",
       "      <td>8.430109</td>\n",
       "      <td>4.852030</td>\n",
       "      <td>5.886104</td>\n",
       "    </tr>\n",
       "    <tr>\n",
       "      <th>2</th>\n",
       "      <td>Male</td>\n",
       "      <td>Yes</td>\n",
       "      <td>0</td>\n",
       "      <td>Graduate</td>\n",
       "      <td>Yes</td>\n",
       "      <td>1.0</td>\n",
       "      <td>Urban</td>\n",
       "      <td>Y</td>\n",
       "      <td>8.006368</td>\n",
       "      <td>8.006368</td>\n",
       "      <td>4.189655</td>\n",
       "      <td>5.886104</td>\n",
       "    </tr>\n",
       "    <tr>\n",
       "      <th>3</th>\n",
       "      <td>Male</td>\n",
       "      <td>Yes</td>\n",
       "      <td>0</td>\n",
       "      <td>Not Graduate</td>\n",
       "      <td>No</td>\n",
       "      <td>1.0</td>\n",
       "      <td>Urban</td>\n",
       "      <td>Y</td>\n",
       "      <td>8.505323</td>\n",
       "      <td>7.856707</td>\n",
       "      <td>4.787492</td>\n",
       "      <td>5.886104</td>\n",
       "    </tr>\n",
       "    <tr>\n",
       "      <th>4</th>\n",
       "      <td>Male</td>\n",
       "      <td>No</td>\n",
       "      <td>0</td>\n",
       "      <td>Graduate</td>\n",
       "      <td>No</td>\n",
       "      <td>1.0</td>\n",
       "      <td>Urban</td>\n",
       "      <td>Y</td>\n",
       "      <td>8.699515</td>\n",
       "      <td>8.699515</td>\n",
       "      <td>4.948760</td>\n",
       "      <td>5.886104</td>\n",
       "    </tr>\n",
       "  </tbody>\n",
       "</table>\n",
       "</div>"
      ],
      "text/plain": [
       "  Gender Married Dependents     Education Self_Employed  Credit_History  \\\n",
       "0   Male      No          0      Graduate            No             1.0   \n",
       "1   Male     Yes          1      Graduate            No             1.0   \n",
       "2   Male     Yes          0      Graduate           Yes             1.0   \n",
       "3   Male     Yes          0  Not Graduate            No             1.0   \n",
       "4   Male      No          0      Graduate            No             1.0   \n",
       "\n",
       "  Property_Area Loan_Status  Total_income  ApplicantIncome_log  \\\n",
       "0         Urban           Y      8.674026             8.674026   \n",
       "1         Rural           N      8.714568             8.430109   \n",
       "2         Urban           Y      8.006368             8.006368   \n",
       "3         Urban           Y      8.505323             7.856707   \n",
       "4         Urban           Y      8.699515             8.699515   \n",
       "\n",
       "   LoanAmount_log  Loan_Amount_Term_log  \n",
       "0        4.986426              5.886104  \n",
       "1        4.852030              5.886104  \n",
       "2        4.189655              5.886104  \n",
       "3        4.787492              5.886104  \n",
       "4        4.948760              5.886104  "
      ]
     },
     "execution_count": 26,
     "metadata": {},
     "output_type": "execute_result"
    }
   ],
   "source": [
    "# we will drop un-necessary columns,\n",
    "# 2 attributes with high corelation between each other is like having simitlar attributes,\n",
    "#so we can drop one of it\n",
    "#coapplicant Income_log has inf as a value, so we are dropping this column also.\n",
    "cols = ['ApplicantIncome','CoapplicantIncome','LoanAmount','Loan_Amount_Term','Loan_ID','CoapplicantIncome_log']\n",
    "df = df.drop(columns=cols,axis=1)\n",
    "df.head()"
   ]
  },
  {
   "cell_type": "code",
   "execution_count": 27,
   "id": "afff6b76",
   "metadata": {
    "execution": {
     "iopub.execute_input": "2022-10-11T15:25:28.571498Z",
     "iopub.status.busy": "2022-10-11T15:25:28.571104Z",
     "iopub.status.idle": "2022-10-11T15:25:28.578970Z",
     "shell.execute_reply": "2022-10-11T15:25:28.577794Z"
    },
    "papermill": {
     "duration": 0.033154,
     "end_time": "2022-10-11T15:25:28.581604",
     "exception": false,
     "start_time": "2022-10-11T15:25:28.548450",
     "status": "completed"
    },
    "tags": []
   },
   "outputs": [
    {
     "data": {
      "text/plain": [
       "\"\\nfrom sklearn.preprocessing import LabelEncoder\\nle = LabelEncoder()\\ndf['Gender'] = le.fit_transform(df['Gender'])\\ndf['Married'] = le.fit_transform(df['Married'])\\ndf['Education'] = le.fit_transform(df['Education'])\\ndf['Self_Employed'] = le.fit_transform(df['Self_Employed'])\\ndf['Property_Area'] = le.fit_transform(df['Property_Area'])\\ndf['Loan_Status'] = le.fit_transform(df['Loan_Status'])\\ndf['Loan_Status'] = le.fit_transform(df['Loan_Status'])\\ndf['Dependents'] = le.fit_transform(df['Dependents'])\\ndf.head()\\n\""
      ]
     },
     "execution_count": 27,
     "metadata": {},
     "output_type": "execute_result"
    }
   ],
   "source": [
    "# Convert Categorical Data into Numerical Data.\n",
    "'''\n",
    "from sklearn.preprocessing import LabelEncoder\n",
    "le = LabelEncoder()\n",
    "df['Gender'] = le.fit_transform(df['Gender'])\n",
    "df['Married'] = le.fit_transform(df['Married'])\n",
    "df['Education'] = le.fit_transform(df['Education'])\n",
    "df['Self_Employed'] = le.fit_transform(df['Self_Employed'])\n",
    "df['Property_Area'] = le.fit_transform(df['Property_Area'])\n",
    "df['Loan_Status'] = le.fit_transform(df['Loan_Status'])\n",
    "df['Loan_Status'] = le.fit_transform(df['Loan_Status'])\n",
    "df['Dependents'] = le.fit_transform(df['Dependents'])\n",
    "df.head()\n",
    "'''"
   ]
  },
  {
   "cell_type": "code",
   "execution_count": 28,
   "id": "d8d54f32",
   "metadata": {
    "execution": {
     "iopub.execute_input": "2022-10-11T15:25:28.625643Z",
     "iopub.status.busy": "2022-10-11T15:25:28.625233Z",
     "iopub.status.idle": "2022-10-11T15:25:28.783164Z",
     "shell.execute_reply": "2022-10-11T15:25:28.782101Z"
    },
    "papermill": {
     "duration": 0.183521,
     "end_time": "2022-10-11T15:25:28.786104",
     "exception": false,
     "start_time": "2022-10-11T15:25:28.602583",
     "status": "completed"
    },
    "tags": []
   },
   "outputs": [],
   "source": [
    "#lets make a function to transform the categorical to numerical value.\n",
    "from sklearn.preprocessing import LabelEncoder\n",
    "def cat_to_num():\n",
    "    le = LabelEncoder()\n",
    "    cols = df.columns\n",
    "    for i in cols:\n",
    "        #check if data inside i column is object or not, if it is object, apply label encoding.\n",
    "        if df[i].dtype=='object':\n",
    "            df[i]=le.fit_transform(df[i])\n",
    "    print(df.head())"
   ]
  },
  {
   "cell_type": "markdown",
   "id": "601f15a4",
   "metadata": {
    "papermill": {
     "duration": 0.020139,
     "end_time": "2022-10-11T15:25:28.826661",
     "exception": false,
     "start_time": "2022-10-11T15:25:28.806522",
     "status": "completed"
    },
    "tags": []
   },
   "source": [
    "## Convert Categorical data into Numerical data."
   ]
  },
  {
   "cell_type": "code",
   "execution_count": 29,
   "id": "bc18261c",
   "metadata": {
    "execution": {
     "iopub.execute_input": "2022-10-11T15:25:28.869615Z",
     "iopub.status.busy": "2022-10-11T15:25:28.869227Z",
     "iopub.status.idle": "2022-10-11T15:25:28.885284Z",
     "shell.execute_reply": "2022-10-11T15:25:28.883899Z"
    },
    "papermill": {
     "duration": 0.040698,
     "end_time": "2022-10-11T15:25:28.887936",
     "exception": false,
     "start_time": "2022-10-11T15:25:28.847238",
     "status": "completed"
    },
    "tags": []
   },
   "outputs": [
    {
     "name": "stdout",
     "output_type": "stream",
     "text": [
      "   Gender  Married  Dependents  Education  Self_Employed  Credit_History  \\\n",
      "0       1        0           0          0              0             1.0   \n",
      "1       1        1           1          0              0             1.0   \n",
      "2       1        1           0          0              1             1.0   \n",
      "3       1        1           0          1              0             1.0   \n",
      "4       1        0           0          0              0             1.0   \n",
      "\n",
      "   Property_Area  Loan_Status  Total_income  ApplicantIncome_log  \\\n",
      "0              2            1      8.674026             8.674026   \n",
      "1              0            0      8.714568             8.430109   \n",
      "2              2            1      8.006368             8.006368   \n",
      "3              2            1      8.505323             7.856707   \n",
      "4              2            1      8.699515             8.699515   \n",
      "\n",
      "   LoanAmount_log  Loan_Amount_Term_log  \n",
      "0        4.986426              5.886104  \n",
      "1        4.852030              5.886104  \n",
      "2        4.189655              5.886104  \n",
      "3        4.787492              5.886104  \n",
      "4        4.948760              5.886104  \n"
     ]
    }
   ],
   "source": [
    "cat_to_num()"
   ]
  },
  {
   "cell_type": "markdown",
   "id": "f51bcab8",
   "metadata": {
    "papermill": {
     "duration": 0.020216,
     "end_time": "2022-10-11T15:25:28.928622",
     "exception": false,
     "start_time": "2022-10-11T15:25:28.908406",
     "status": "completed"
    },
    "tags": []
   },
   "source": [
    "## Train-Test Split"
   ]
  },
  {
   "cell_type": "code",
   "execution_count": 30,
   "id": "25dc7bce",
   "metadata": {
    "execution": {
     "iopub.execute_input": "2022-10-11T15:25:28.972684Z",
     "iopub.status.busy": "2022-10-11T15:25:28.971458Z",
     "iopub.status.idle": "2022-10-11T15:25:29.046533Z",
     "shell.execute_reply": "2022-10-11T15:25:29.045346Z"
    },
    "papermill": {
     "duration": 0.099921,
     "end_time": "2022-10-11T15:25:29.049309",
     "exception": false,
     "start_time": "2022-10-11T15:25:28.949388",
     "status": "completed"
    },
    "tags": []
   },
   "outputs": [],
   "source": [
    "X = df.drop(columns=['Loan_Status'])\n",
    "Y = df['Loan_Status']\n",
    "\n",
    "from sklearn.model_selection import train_test_split\n",
    "x_train, x_test, y_train, y_test =  train_test_split(X,Y,test_size=0.25,random_state=1)"
   ]
  },
  {
   "cell_type": "code",
   "execution_count": 31,
   "id": "b044a7de",
   "metadata": {
    "execution": {
     "iopub.execute_input": "2022-10-11T15:25:29.092578Z",
     "iopub.status.busy": "2022-10-11T15:25:29.092145Z",
     "iopub.status.idle": "2022-10-11T15:25:29.099411Z",
     "shell.execute_reply": "2022-10-11T15:25:29.098422Z"
    },
    "papermill": {
     "duration": 0.031903,
     "end_time": "2022-10-11T15:25:29.101872",
     "exception": false,
     "start_time": "2022-10-11T15:25:29.069969",
     "status": "completed"
    },
    "tags": []
   },
   "outputs": [],
   "source": [
    "#function to train different kinds of model.\n",
    "#we will split the data everytime for each time the model is trained.\n",
    "from sklearn.model_selection import cross_val_score\n",
    "def classify(model,x,y):\n",
    "    x_train, x_test, y_train, y_test =  train_test_split(x,y,test_size=0.25,random_state=1)\n",
    "    model.fit(x_train,y_train)\n",
    "    print(\"Accuracy: \",model.score(x_test,y_test)*100)\n",
    "    #lets use cross-validation.\n",
    "    #it splits the data into n folds, and uses n-1 fold for training data and 1 fold for test data, and similary does it for evrey fold.\n",
    "    score = cross_val_score(model,x,y,cv=5)\n",
    "    print(\"Cross validation score: \",np.mean(score)*100)"
   ]
  },
  {
   "cell_type": "code",
   "execution_count": 32,
   "id": "88d2aa95",
   "metadata": {
    "execution": {
     "iopub.execute_input": "2022-10-11T15:25:29.147597Z",
     "iopub.status.busy": "2022-10-11T15:25:29.147151Z",
     "iopub.status.idle": "2022-10-11T15:25:29.381236Z",
     "shell.execute_reply": "2022-10-11T15:25:29.379516Z"
    },
    "papermill": {
     "duration": 0.260914,
     "end_time": "2022-10-11T15:25:29.384521",
     "exception": false,
     "start_time": "2022-10-11T15:25:29.123607",
     "status": "completed"
    },
    "tags": []
   },
   "outputs": [
    {
     "name": "stdout",
     "output_type": "stream",
     "text": [
      "Accuracy:  79.22077922077922\n",
      "Cross validation score:  80.9462881514061\n"
     ]
    }
   ],
   "source": [
    "#logistic regression\n",
    "from sklearn.linear_model import LogisticRegression\n",
    "model = LogisticRegression()\n",
    "classify(model,X,Y)"
   ]
  },
  {
   "cell_type": "code",
   "execution_count": 33,
   "id": "01115d19",
   "metadata": {
    "execution": {
     "iopub.execute_input": "2022-10-11T15:25:29.428263Z",
     "iopub.status.busy": "2022-10-11T15:25:29.427802Z",
     "iopub.status.idle": "2022-10-11T15:25:29.552388Z",
     "shell.execute_reply": "2022-10-11T15:25:29.551193Z"
    },
    "papermill": {
     "duration": 0.149299,
     "end_time": "2022-10-11T15:25:29.554728",
     "exception": false,
     "start_time": "2022-10-11T15:25:29.405429",
     "status": "completed"
    },
    "tags": []
   },
   "outputs": [
    {
     "name": "stdout",
     "output_type": "stream",
     "text": [
      "Accuracy:  75.97402597402598\n",
      "Cross validation score:  75.56977209116353\n"
     ]
    }
   ],
   "source": [
    "#k-nearest neighbor\n",
    "from sklearn.neighbors import KNeighborsClassifier\n",
    "model = KNeighborsClassifier()\n",
    "classify(model,X,Y)"
   ]
  },
  {
   "cell_type": "code",
   "execution_count": 34,
   "id": "aa059a99",
   "metadata": {
    "execution": {
     "iopub.execute_input": "2022-10-11T15:25:29.598373Z",
     "iopub.status.busy": "2022-10-11T15:25:29.597959Z",
     "iopub.status.idle": "2022-10-11T15:25:29.675097Z",
     "shell.execute_reply": "2022-10-11T15:25:29.673512Z"
    },
    "papermill": {
     "duration": 0.102081,
     "end_time": "2022-10-11T15:25:29.677636",
     "exception": false,
     "start_time": "2022-10-11T15:25:29.575555",
     "status": "completed"
    },
    "tags": []
   },
   "outputs": [
    {
     "name": "stdout",
     "output_type": "stream",
     "text": [
      "Accuracy:  72.07792207792207\n",
      "Cross validation score:  70.52379048380647\n"
     ]
    }
   ],
   "source": [
    "#decision tree\n",
    "from sklearn.tree import DecisionTreeClassifier\n",
    "model = DecisionTreeClassifier()\n",
    "classify(model,X,Y)"
   ]
  },
  {
   "cell_type": "code",
   "execution_count": 35,
   "id": "7b521811",
   "metadata": {
    "execution": {
     "iopub.execute_input": "2022-10-11T15:25:29.721750Z",
     "iopub.status.busy": "2022-10-11T15:25:29.721333Z",
     "iopub.status.idle": "2022-10-11T15:25:29.857438Z",
     "shell.execute_reply": "2022-10-11T15:25:29.855988Z"
    },
    "papermill": {
     "duration": 0.161151,
     "end_time": "2022-10-11T15:25:29.860129",
     "exception": false,
     "start_time": "2022-10-11T15:25:29.698978",
     "status": "completed"
    },
    "tags": []
   },
   "outputs": [
    {
     "name": "stdout",
     "output_type": "stream",
     "text": [
      "Accuracy:  68.18181818181817\n",
      "Cross validation score:  69.70545115287219\n"
     ]
    }
   ],
   "source": [
    "#svm\n",
    "from sklearn.svm import SVC\n",
    "model = SVC()\n",
    "classify(model,X,Y)"
   ]
  },
  {
   "cell_type": "code",
   "execution_count": 36,
   "id": "802c76c1",
   "metadata": {
    "execution": {
     "iopub.execute_input": "2022-10-11T15:25:29.903745Z",
     "iopub.status.busy": "2022-10-11T15:25:29.903295Z",
     "iopub.status.idle": "2022-10-11T15:25:31.205007Z",
     "shell.execute_reply": "2022-10-11T15:25:31.202869Z"
    },
    "papermill": {
     "duration": 1.328073,
     "end_time": "2022-10-11T15:25:31.209076",
     "exception": false,
     "start_time": "2022-10-11T15:25:29.881003",
     "status": "completed"
    },
    "tags": []
   },
   "outputs": [
    {
     "name": "stdout",
     "output_type": "stream",
     "text": [
      "Accuracy:  77.27272727272727\n",
      "Cross validation score:  78.66719978675198\n"
     ]
    }
   ],
   "source": [
    "#random forest\n",
    "from sklearn.ensemble import RandomForestClassifier\n",
    "model = RandomForestClassifier()\n",
    "classify(model,X,Y)"
   ]
  },
  {
   "cell_type": "code",
   "execution_count": 37,
   "id": "7cf17519",
   "metadata": {
    "execution": {
     "iopub.execute_input": "2022-10-11T15:25:31.254760Z",
     "iopub.status.busy": "2022-10-11T15:25:31.253632Z",
     "iopub.status.idle": "2022-10-11T15:25:32.211767Z",
     "shell.execute_reply": "2022-10-11T15:25:32.210246Z"
    },
    "papermill": {
     "duration": 0.984785,
     "end_time": "2022-10-11T15:25:32.215674",
     "exception": false,
     "start_time": "2022-10-11T15:25:31.230889",
     "status": "completed"
    },
    "tags": []
   },
   "outputs": [
    {
     "name": "stdout",
     "output_type": "stream",
     "text": [
      "Accuracy:  75.32467532467533\n",
      "Cross validation score:  77.52632280421166\n"
     ]
    }
   ],
   "source": [
    "#extra_trees classifier\n",
    "from sklearn.ensemble import ExtraTreesClassifier\n",
    "model = ExtraTreesClassifier()\n",
    "classify(model,X,Y)"
   ]
  },
  {
   "cell_type": "markdown",
   "id": "3b258d21",
   "metadata": {
    "papermill": {
     "duration": 0.020779,
     "end_time": "2022-10-11T15:25:32.258676",
     "exception": false,
     "start_time": "2022-10-11T15:25:32.237897",
     "status": "completed"
    },
    "tags": []
   },
   "source": [
    "## Confusion Matrix"
   ]
  },
  {
   "cell_type": "code",
   "execution_count": 38,
   "id": "d71facbd",
   "metadata": {
    "execution": {
     "iopub.execute_input": "2022-10-11T15:25:32.302646Z",
     "iopub.status.busy": "2022-10-11T15:25:32.302233Z",
     "iopub.status.idle": "2022-10-11T15:25:32.336611Z",
     "shell.execute_reply": "2022-10-11T15:25:32.335469Z"
    },
    "papermill": {
     "duration": 0.059297,
     "end_time": "2022-10-11T15:25:32.339076",
     "exception": false,
     "start_time": "2022-10-11T15:25:32.279779",
     "status": "completed"
    },
    "tags": []
   },
   "outputs": [
    {
     "data": {
      "text/plain": [
       "array([[ 19,  30],\n",
       "       [  2, 103]])"
      ]
     },
     "execution_count": 38,
     "metadata": {},
     "output_type": "execute_result"
    }
   ],
   "source": [
    "from sklearn.metrics import confusion_matrix\n",
    "from sklearn.linear_model import LogisticRegression\n",
    "model = LogisticRegression()\n",
    "model.fit(x_train,y_train)\n",
    "\n",
    "pred = model.predict(x_test)\n",
    "cm = confusion_matrix(y_test,pred)\n",
    "cm"
   ]
  },
  {
   "cell_type": "code",
   "execution_count": 39,
   "id": "cea53898",
   "metadata": {
    "execution": {
     "iopub.execute_input": "2022-10-11T15:25:32.385860Z",
     "iopub.status.busy": "2022-10-11T15:25:32.385018Z",
     "iopub.status.idle": "2022-10-11T15:25:32.637984Z",
     "shell.execute_reply": "2022-10-11T15:25:32.636810Z"
    },
    "papermill": {
     "duration": 0.278502,
     "end_time": "2022-10-11T15:25:32.640591",
     "exception": false,
     "start_time": "2022-10-11T15:25:32.362089",
     "status": "completed"
    },
    "tags": []
   },
   "outputs": [
    {
     "data": {
      "text/plain": [
       "<AxesSubplot:>"
      ]
     },
     "execution_count": 39,
     "metadata": {},
     "output_type": "execute_result"
    },
    {
     "data": {
      "image/png": "[encoded data removed]",
      "text/plain": [
       "<Figure size 432x288 with 2 Axes>"
      ]
     },
     "metadata": {
      "needs_background": "light"
     },
     "output_type": "display_data"
    }
   ],
   "source": [
    "#lets plot the above confusion matrix into a heatmap.\n",
    "sns.heatmap(cm,annot=True)"
   ]
  },
  {
   "cell_type": "code",
   "execution_count": null,
   "id": "f242a616",
   "metadata": {
    "papermill": {
     "duration": 0.021451,
     "end_time": "2022-10-11T15:25:32.684360",
     "exception": false,
     "start_time": "2022-10-11T15:25:32.662909",
     "status": "completed"
    },
    "tags": []
   },
   "outputs": [],
   "source": []
  }
 ],
 "metadata": {
  "kernelspec": {
   "display_name": "Python 3",
   "language": "python",
   "name": "python3"
  },
  "language_info": {
   "codemirror_mode": {
    "name": "ipython",
    "version": 3
   },
   "file_extension": ".py",
   "mimetype": "text/x-python",
   "name": "python",
   "nbconvert_exporter": "python",
   "pygments_lexer": "ipython3",
   "version": "3.7.12"
  },
  "papermill": {
   "default_parameters": {},
   "duration": 21.923952,
   "end_time": "2022-10-11T15:25:33.629474",
   "environment_variables": {},
   "exception": null,
   "input_path": "__notebook__.ipynb",
   "output_path": "__notebook__.ipynb",
   "parameters": {},
   "start_time": "2022-10-11T15:25:11.705522",
   "version": "2.3.4"
  }
 },
 "nbformat": 4,
 "nbformat_minor": 5
}
